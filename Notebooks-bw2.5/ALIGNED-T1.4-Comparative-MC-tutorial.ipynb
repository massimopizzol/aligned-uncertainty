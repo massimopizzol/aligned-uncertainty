{
 "cells": [
  {
   "cell_type": "markdown",
   "metadata": {},
   "source": [
    "# ALIGNED project: Comparative Monte Carlo\n",
    "\n",
    "**Aligning Life Cycle Assessment methods and bio-based sectors for improved environmental performance**\n",
    "\n",
    "[http://www.alignedproject.eu/](http://www.alignedproject.eu/)\n",
    "\n",
    "_Horizon Europe grant agreement N° 101059430. Views and opinions expressed are however those of the author(s) only and do not necessarily reflect those of the European Union or the European Research Executive Agency._ \n",
    "\n",
    "\n",
    "## WP1 Shared modelling framework and learnings\n",
    "### Task 1.4 Framework for interpreting uncertainty\n",
    "\n",
    "#### Deliverable 1.2 Description of scientific methods\n",
    "\n",
    "#### Tutorial for performing a comparative Monte Carlo uncertainty analysis\n",
    "\n",
    "Massimo Pizzol, Aalborg University (AAU), 2025  \n",
    "Ning An, Aalborg University (AAU), 2025\n",
    "\n",
    "This notebook shows how to perform an uncertainty analysis on an example product system of a biobased product. "
   ]
  },
  {
   "cell_type": "markdown",
   "metadata": {},
   "source": [
    "In particular here a comparative Monte Carlo is performed, the type of simulation to be used in comparative LCAs, i.e. in analyses where different alternatives to provide the same Functional Unit are compared. In this comparative case it is important to randomly sample a common technology matrix **A** for all alternatives at each iteration, instead of having a different technology matrix per each alternative at each iteration. This allows for a smaller variance and shorter computational times. Moreover, this allows not only to quantify the uncertainty of each alternative, but also to optimally perform the  statistical testing of the results with paired tests, to see if the two alternatives are significantly different from each other or not. \n",
    "\n",
    "A recommend supporting reading is Henriksson et al. (2015), probably the best example of an LCA with comparative Monte Carlo simulation followed by statistical testing for significant differences between alternatives. An application of this approach is also provided in Pizzol (2019).\n",
    "\n",
    "_Henriksson, P. J. G., Rico, A., Zhang, W., Ahmad-Al-Nahid, S., Newton, R., Phan, L. T., … Guinée, J. B. (2015). Comparison of Asian Aquaculture Products by Use of Statistically Supported Life Cycle Assessment. Environmental Science and Technology, 49(24), 14176-14183._ [https://doi.org/10.1021/acs.est.5b04634](https://doi.org/10.1021/acs.est.5b04634)\n",
    "\n",
    "_Pizzol, M., 2019. Deterministic and stochastic carbon footprint of intermodal ferry and truck freight transport across Scandinavian routes. Journal of Cleaner Production 224, 626–636._ https://doi.org/10.1016/j.jclepro.2019.03.270\n"
   ]
  },
  {
   "cell_type": "code",
   "execution_count": null,
   "metadata": {},
   "outputs": [],
   "source": [
    "# import packages\n",
    "import bw2data as bd\n",
    "import bw2calc as bc\n",
    "import pandas as pd\n",
    "import numpy as np\n",
    "from scipy import stats\n",
    "from matplotlib import pyplot as plt\n",
    "from lci_to_bw2 import * # import all the functions of this module"
   ]
  },
  {
   "cell_type": "code",
   "execution_count": 2,
   "metadata": {},
   "outputs": [],
   "source": [
    "# open a project with ecoinvent v.3.11 consequential system model\n",
    "bd.projects.set_current('advlca25')"
   ]
  },
  {
   "cell_type": "markdown",
   "metadata": {},
   "source": [
    "We start by importing data about a fictional (\"dummy\") product system for a biobased product."
   ]
  },
  {
   "cell_type": "code",
   "execution_count": 3,
   "metadata": {},
   "outputs": [
    {
     "name": "stdout",
     "output_type": "stream",
     "text": [
      "\u001b[2m11:51:34+0200\u001b[0m [\u001b[33m\u001b[1mwarning  \u001b[0m] \u001b[1mNot able to determine geocollections for all datasets. This database is not ready for regionalization.\u001b[0m\n"
     ]
    },
    {
     "name": "stderr",
     "output_type": "stream",
     "text": [
      "100%|██████████| 5/5 [00:00<00:00, 6248.96it/s]"
     ]
    },
    {
     "name": "stdout",
     "output_type": "stream",
     "text": [
      "\u001b[2m11:51:34+0200\u001b[0m [\u001b[32m\u001b[1minfo     \u001b[0m] \u001b[1mVacuuming database            \u001b[0m\n"
     ]
    },
    {
     "name": "stderr",
     "output_type": "stream",
     "text": [
      "\n"
     ]
    }
   ],
   "source": [
    "# Import the dummy product system\n",
    "\n",
    "# import data from csv\n",
    "mydata = pd.read_csv('ALIGNED-LCI-biobased-product-dummy.csv', header = 0, sep = \",\") # using csv file avoids encoding problem\n",
    "mydata.head()\n",
    "\n",
    "# keep only the columns needed\n",
    "mydb = mydata[['Activity database','Activity code','Activity name','Activity unit','Activity type',\n",
    "               'Exchange database','Exchange input','Exchange amount','Exchange unit','Exchange type',\n",
    "               'Exchange uncertainty type','Exchange loc','Exchange scale','Exchange negative', \n",
    "               'Simapro name',\t'Simapro unit', 'Simapro type']].copy()\n",
    "\n",
    "mydb = mydata.copy()\n",
    "\n",
    "mydb['Exchange uncertainty type'] = mydb['Exchange uncertainty type'].fillna(0).astype(int) # uncertainty as integers\n",
    "# Note: to avoid having both nan and values in the uncertainty column I use zero as default\n",
    "\n",
    "# Create dictionary in bw format and write database to disk. \n",
    "# Shut down all other notebooks using the same project before doing this\n",
    "bw2_db = lci_to_bw2(mydb) # a function from the lci_to_bw2 module\n",
    "\n",
    "# write database\n",
    "bd.Database('ALIGNED-biob-prod-dummy').write(bw2_db)"
   ]
  },
  {
   "cell_type": "markdown",
   "metadata": {},
   "source": [
    "The product system includes different activities such as the production, use, and end of life of the biobased product."
   ]
  },
  {
   "cell_type": "code",
   "execution_count": 4,
   "metadata": {},
   "outputs": [
    {
     "name": "stdout",
     "output_type": "stream",
     "text": [
      "'Biobased-product-eol' (kilogram, None, None) c8301e73-d521-4a89-998b-30b7e7751011\n",
      "'Biobased-product-use' (year, None, None) f9eabf64-b899-40c0-9f9f-2009dbb0a0b2\n",
      "'Biomass-growth' (kilogram, None, None) a7d34649-9c10-4423-bac3-ecab9b43b20c\n",
      "'Biomass-processing' (kilogram, None, None) 403a5c32-c769-46fc-8b9a-74b8eb3c79d1\n",
      "'Biobased-product-manufacturing' (kilogram, None, None) a37d149a-6508-4563-8af6-e5a39b4176df\n"
     ]
    }
   ],
   "source": [
    "# check what foreground activities are included\n",
    "for act in bd.Database('ALIGNED-biob-prod-dummy'):\n",
    "    print(act, act['code'])"
   ]
  },
  {
   "cell_type": "markdown",
   "metadata": {},
   "source": [
    "We calculate a static climate impact score for the fictional biobased product, to be used for reference later on."
   ]
  },
  {
   "cell_type": "code",
   "execution_count": 5,
   "metadata": {},
   "outputs": [
    {
     "name": "stdout",
     "output_type": "stream",
     "text": [
      "180.28497364203196\n"
     ]
    }
   ],
   "source": [
    "# calculation of static LCA score\n",
    "mymethod = ('ecoinvent-3.11', 'IPCC 2021', 'climate change: fossil', 'global warming potential (GWP100)')\n",
    "use = bd.Database('ALIGNED-biob-prod-dummy').get('f9eabf64-b899-40c0-9f9f-2009dbb0a0b2') # Biobased-product-use\n",
    "functional_unit = {use: 1}\n",
    "LCA = bc.LCA(functional_unit, mymethod)\n",
    "LCA.lci()\n",
    "LCA.lcia()\n",
    "print(LCA.score)"
   ]
  },
  {
   "cell_type": "markdown",
   "metadata": {},
   "source": [
    "### A simple Stochastic simulation"
   ]
  },
  {
   "cell_type": "markdown",
   "metadata": {},
   "source": [
    "We perform a simulation and calculate 100 results for the same functional unit using stochastic error propagation starting from the uncertainty in the foreground and background input data."
   ]
  },
  {
   "cell_type": "code",
   "execution_count": 6,
   "metadata": {},
   "outputs": [],
   "source": [
    "mc = bc.LCA(functional_unit, mymethod, use_distributions=True)\n",
    "mc.lci()\n",
    "mc.lcia()\n",
    "mc_results = [mc.score for _ in zip(range(100), mc)] # will take a minute, we are randomly sampling ecoinvent 100 times"
   ]
  },
  {
   "cell_type": "markdown",
   "metadata": {},
   "source": [
    "We then calculate descriptive statistics for the resulting distribution."
   ]
  },
  {
   "cell_type": "code",
   "execution_count": 7,
   "metadata": {},
   "outputs": [
    {
     "data": {
      "text/html": [
       "<div>\n",
       "<style scoped>\n",
       "    .dataframe tbody tr th:only-of-type {\n",
       "        vertical-align: middle;\n",
       "    }\n",
       "\n",
       "    .dataframe tbody tr th {\n",
       "        vertical-align: top;\n",
       "    }\n",
       "\n",
       "    .dataframe thead th {\n",
       "        text-align: right;\n",
       "    }\n",
       "</style>\n",
       "<table border=\"1\" class=\"dataframe\">\n",
       "  <thead>\n",
       "    <tr style=\"text-align: right;\">\n",
       "      <th></th>\n",
       "      <th>0</th>\n",
       "    </tr>\n",
       "  </thead>\n",
       "  <tbody>\n",
       "    <tr>\n",
       "      <th>count</th>\n",
       "      <td>100.000000</td>\n",
       "    </tr>\n",
       "    <tr>\n",
       "      <th>mean</th>\n",
       "      <td>215.865102</td>\n",
       "    </tr>\n",
       "    <tr>\n",
       "      <th>std</th>\n",
       "      <td>77.312757</td>\n",
       "    </tr>\n",
       "    <tr>\n",
       "      <th>min</th>\n",
       "      <td>82.765950</td>\n",
       "    </tr>\n",
       "    <tr>\n",
       "      <th>25%</th>\n",
       "      <td>164.931949</td>\n",
       "    </tr>\n",
       "    <tr>\n",
       "      <th>50%</th>\n",
       "      <td>202.760071</td>\n",
       "    </tr>\n",
       "    <tr>\n",
       "      <th>75%</th>\n",
       "      <td>254.958043</td>\n",
       "    </tr>\n",
       "    <tr>\n",
       "      <th>max</th>\n",
       "      <td>575.432612</td>\n",
       "    </tr>\n",
       "  </tbody>\n",
       "</table>\n",
       "</div>"
      ],
      "text/plain": [
       "                0\n",
       "count  100.000000\n",
       "mean   215.865102\n",
       "std     77.312757\n",
       "min     82.765950\n",
       "25%    164.931949\n",
       "50%    202.760071\n",
       "75%    254.958043\n",
       "max    575.432612"
      ]
     },
     "execution_count": 7,
     "metadata": {},
     "output_type": "execute_result"
    },
    {
     "data": {
      "image/png": "[encoded data removed]",
      "text/plain": [
       "<Figure size 640x480 with 1 Axes>"
      ]
     },
     "metadata": {},
     "output_type": "display_data"
    }
   ],
   "source": [
    "# plot MC results\n",
    "plt.hist(mc_results, density=True)\n",
    "plt.ylabel(\"Probability\")\n",
    "plt.xlabel(bd.methods[mymethod][\"unit\"])\n",
    "pd.DataFrame(mc_results).describe() "
   ]
  },
  {
   "cell_type": "markdown",
   "metadata": {},
   "source": [
    "### A comparative stochastic simulation"
   ]
  },
  {
   "cell_type": "markdown",
   "metadata": {},
   "source": [
    "Now we perform stochastic simulation where we compare the initial product with a fictional alternative. Scores are calculated in a paired fashion so first (i) a new technology matrix is sampled, then (ii) results are calculated for each product using this matrix, and only then the procedure is iterated. In this way we ensure comparisons made on the same conditions at each iteration."
   ]
  },
  {
   "cell_type": "markdown",
   "metadata": {},
   "source": [
    "We first need to define the alternative product, this is a product where a larger amount of product items is needed in the use stage. The uncertainty estimates for this alternative products are also different."
   ]
  },
  {
   "cell_type": "code",
   "execution_count": 8,
   "metadata": {},
   "outputs": [],
   "source": [
    "if 'ALIGNED-biob-prod-dummy-alt' in bd.databases:\n",
    "    del bd.databases['ALIGNED-biob-prod-dummy-alt']"
   ]
  },
  {
   "cell_type": "code",
   "execution_count": 9,
   "metadata": {},
   "outputs": [
    {
     "name": "stdout",
     "output_type": "stream",
     "text": [
      "\u001b[2m11:54:01+0200\u001b[0m [\u001b[33m\u001b[1mwarning  \u001b[0m] \u001b[1mNot able to determine geocollections for all datasets. This database is not ready for regionalization.\u001b[0m\n"
     ]
    },
    {
     "name": "stderr",
     "output_type": "stream",
     "text": [
      "100%|██████████| 5/5 [00:00<00:00, 9510.89it/s]"
     ]
    },
    {
     "name": "stdout",
     "output_type": "stream",
     "text": [
      "\u001b[2m11:54:01+0200\u001b[0m [\u001b[32m\u001b[1minfo     \u001b[0m] \u001b[1mVacuuming database            \u001b[0m\n"
     ]
    },
    {
     "name": "stderr",
     "output_type": "stream",
     "text": [
      "\n"
     ]
    }
   ],
   "source": [
    "# create a copy of the foreground database\n",
    "db_alt = bd.Database('ALIGNED-biob-prod-dummy').copy('ALIGNED-biob-prod-dummy-alt')"
   ]
  },
  {
   "cell_type": "code",
   "execution_count": 10,
   "metadata": {},
   "outputs": [
    {
     "name": "stdout",
     "output_type": "stream",
     "text": [
      "original:  Exchange: 50.0 kilogram 'Biobased-product-manufacturing' (kilogram, None, None) to 'Biobased-product-use' (year, None, None)>\n",
      "alternative:  Exchange: 60 kilogram 'Biobased-product-manufacturing' (kilogram, None, None) to 'Biobased-product-use' (year, None, None)>\n"
     ]
    }
   ],
   "source": [
    "# Now I modified this database to show that more product is used in the use stage.\n",
    "use_alt = db_alt.get('f9eabf64-b899-40c0-9f9f-2009dbb0a0b2')\n",
    "exc_alt = list(use_alt.exchanges())[1] # select the second exchange in the activity, i.e. the input from manufacturing\n",
    "print('original: ', exc_alt) # checking the original\n",
    "\n",
    "exc_alt['amount'] = 60 # I am increasing the amount of product needed in manufacturing\n",
    "exc_alt['minimum'] = 60 * 0.8 # Some uncertainty, lower bound of uniform distribution\n",
    "exc_alt['maximum'] = 60 * 1.2 # Some uncertainty, upper bound of uniform distribution\n",
    "exc_alt.save() # important or the changes won't be maintained\n",
    "print('alternative: ', exc_alt) # checking the  alternative"
   ]
  },
  {
   "cell_type": "markdown",
   "metadata": {},
   "source": [
    "We can see that the uncertainty range is different for the two products."
   ]
  },
  {
   "cell_type": "code",
   "execution_count": 11,
   "metadata": {},
   "outputs": [
    {
     "name": "stdout",
     "output_type": "stream",
     "text": [
      "{'Notes': 'Input of manufacturing',\n",
      " 'Simapro name': 'Biobased-product-manufacturing',\n",
      " 'Simapro unit': 'kg',\n",
      " 'amount': 50.0,\n",
      " 'input': ('ALIGNED-biob-prod-dummy', 'a37d149a-6508-4563-8af6-e5a39b4176df'),\n",
      " 'maximum': 62.5,\n",
      " 'minimum': 37.5,\n",
      " 'output': ('ALIGNED-biob-prod-dummy', 'f9eabf64-b899-40c0-9f9f-2009dbb0a0b2'),\n",
      " 'type': 'technosphere',\n",
      " 'uncertainty type': 4,\n",
      " 'unit': 'kilogram'}\n",
      "\n",
      "---\n",
      "\n",
      "{'Notes': 'Input of manufacturing',\n",
      " 'Simapro name': 'Biobased-product-manufacturing',\n",
      " 'Simapro unit': 'kg',\n",
      " 'amount': 60,\n",
      " 'input': ('ALIGNED-biob-prod-dummy-alt',\n",
      "           'a37d149a-6508-4563-8af6-e5a39b4176df'),\n",
      " 'maximum': 72.0,\n",
      " 'minimum': 48.0,\n",
      " 'output': ('ALIGNED-biob-prod-dummy-alt',\n",
      "            'f9eabf64-b899-40c0-9f9f-2009dbb0a0b2'),\n",
      " 'type': 'technosphere',\n",
      " 'uncertainty type': 4,\n",
      " 'unit': 'kilogram'}\n"
     ]
    }
   ],
   "source": [
    "# check that both amount and uncertainty values are different\n",
    "import pprint\n",
    "pprint.pprint(list(use.exchanges())[1]._data) # original\n",
    "print(\"\\n---\\n\")\n",
    "pprint.pprint(list(use_alt.exchanges())[1]._data) # alternative"
   ]
  },
  {
   "cell_type": "markdown",
   "metadata": {},
   "source": [
    "And the static impact score is also different"
   ]
  },
  {
   "cell_type": "code",
   "execution_count": 12,
   "metadata": {},
   "outputs": [
    {
     "data": {
      "text/plain": [
       "206.15009788866578"
      ]
     },
     "execution_count": 12,
     "metadata": {},
     "output_type": "execute_result"
    }
   ],
   "source": [
    "# check the static value is different\n",
    "lca = bc.LCA({use_alt: 1}, mymethod)\n",
    "lca.lci()\n",
    "lca.lcia()\n",
    "lca.score # higher impact as expected"
   ]
  },
  {
   "cell_type": "markdown",
   "metadata": {},
   "source": [
    "Now I merge based product and its alternative in the same technology matrix and proceed with the stochastic comparative anlysis"
   ]
  },
  {
   "cell_type": "code",
   "execution_count": 13,
   "metadata": {},
   "outputs": [
    {
     "name": "stdout",
     "output_type": "stream",
     "text": [
      "\u001b[2m11:54:07+0200\u001b[0m [\u001b[33m\u001b[1mwarning  \u001b[0m] \u001b[1mNot able to determine geocollections for all datasets. This database is not ready for regionalization.\u001b[0m\n"
     ]
    },
    {
     "name": "stderr",
     "output_type": "stream",
     "text": [
      "100%|██████████| 1/1 [00:00<00:00, 33288.13it/s]"
     ]
    },
    {
     "name": "stdout",
     "output_type": "stream",
     "text": [
      "\u001b[2m11:54:07+0200\u001b[0m [\u001b[32m\u001b[1minfo     \u001b[0m] \u001b[1mVacuuming database            \u001b[0m\n"
     ]
    },
    {
     "name": "stderr",
     "output_type": "stream",
     "text": [
      "\n"
     ]
    }
   ],
   "source": [
    "# Create a database with both activities to have a common technology matrix.\n",
    "\n",
    "cmc_db = bd.Database('cmc') # cmc = comparative Monte Carlo\n",
    "\n",
    "# A simplified db, one foreground activity: 'Electricity production,\n",
    "cmc_db.write({  \n",
    "    ('cmc', 'cmc-act'): {\n",
    "        'name': 'comparative monte carlo activity',\n",
    "        'unit': 'p',\n",
    "        'exchanges': [{\n",
    "            'input': ('ALIGNED-biob-prod-dummy', 'f9eabf64-b899-40c0-9f9f-2009dbb0a0b2'), # first alternative\n",
    "            'amount': 1,\n",
    "            'type': 'technosphere'},\n",
    "        {\n",
    "            'input': ('ALIGNED-biob-prod-dummy-alt', 'f9eabf64-b899-40c0-9f9f-2009dbb0a0b2'), # second alternative\n",
    "            'amount': 1,\n",
    "            'type': 'technosphere'},\n",
    "        {\n",
    "            'input': ('cmc', 'cmc-act'),\n",
    "            'amount': 1,\n",
    "            'type': 'production'}]}})\n",
    "\n",
    "# select the foreground activity and calculate result\n",
    "#lca = bc.LCA({cmc_db.get('cmc-act'): 1}, mymethod)\n",
    "#lca.lci()\n",
    "#lca.lcia()"
   ]
  },
  {
   "cell_type": "code",
   "execution_count": 14,
   "metadata": {},
   "outputs": [
    {
     "data": {
      "text/plain": [
       "449.31810361656846"
      ]
     },
     "execution_count": 14,
     "metadata": {},
     "output_type": "execute_result"
    }
   ],
   "source": [
    "# Initialize monte carlo simulation\n",
    "mc = bc.LCA({cmc_db.get('cmc-act'): 1}, mymethod, use_distributions=True) # We are calculating the impact of transport with the use first\n",
    "mc.lci()\n",
    "mc.lcia()\n",
    "mc.score"
   ]
  },
  {
   "cell_type": "markdown",
   "metadata": {},
   "source": [
    "#### (Technical note) \n",
    "\n",
    "The steps above were necessary as in this case as we start with importing a single product system. To analyise an alternative product we need first to create a copy of the existing database, modify it to add the alternative activity, and then obtain a common technology matrix. \n",
    "\n",
    "All this can be skipped if the alternatives to be compared are two distinct activities in the same foreground database and prepared originally in the data template and imported together."
   ]
  },
  {
   "cell_type": "markdown",
   "metadata": {},
   "source": [
    "#### Now finally comparative stochastic simulation"
   ]
  },
  {
   "cell_type": "code",
   "execution_count": 15,
   "metadata": {},
   "outputs": [],
   "source": [
    "# a list ot he alternative to be compared\n",
    "act_1 = bd.Database(\"ALIGNED-biob-prod-dummy\").get(\"f9eabf64-b899-40c0-9f9f-2009dbb0a0b2\").id\n",
    "act_2 = bd.Database(\"ALIGNED-biob-prod-dummy-alt\").get(\"f9eabf64-b899-40c0-9f9f-2009dbb0a0b2\").id\n",
    "\n",
    "demands = [{act_1:1}, {act_2:1}] # the alternative!"
   ]
  },
  {
   "cell_type": "code",
   "execution_count": 16,
   "metadata": {},
   "outputs": [
    {
     "name": "stdout",
     "output_type": "stream",
     "text": [
      "219.24724087623486\n",
      "230.0708627342863\n",
      "219.24724087623486\n"
     ]
    }
   ],
   "source": [
    "# look at this first\n",
    "mc.redo_lcia(demands[0]) # use\n",
    "print(mc.score)\n",
    "mc.redo_lcia(demands[1]) # alternative use. I am using the same technology matrix \"A\" as before to calcualte results\n",
    "print(mc.score)\n",
    "mc.redo_lcia(demands[0]) # use again. Same result. Note how \"redo.lcia\" allows doing dependent sampling\n",
    "print(mc.score)"
   ]
  },
  {
   "cell_type": "code",
   "execution_count": 17,
   "metadata": {},
   "outputs": [],
   "source": [
    "# Now for several iterations\n",
    "iterations = 100\n",
    "simulations = [] # empty list that will contain the restuls of all iterations, for all alternatives\n",
    "\n",
    "for _ in range(iterations):\n",
    "    #print(_)\n",
    "    next(mc)\n",
    "    mcresults = []    # empty list that will contain results for one iteration, for two alteratives\n",
    "    for i in demands:\n",
    "        mc.redo_lcia(i)\n",
    "        mcresults.append(mc.score)\n",
    "    simulations.append(mcresults) # appends one list to another\n"
   ]
  },
  {
   "cell_type": "markdown",
   "metadata": {},
   "source": [
    "What is obtained is two different distributions, one for the base product and one for the alternative. Each sample (iteration, or row in the table below) is paired."
   ]
  },
  {
   "cell_type": "code",
   "execution_count": 18,
   "metadata": {},
   "outputs": [
    {
     "data": {
      "text/html": [
       "<div>\n",
       "<style scoped>\n",
       "    .dataframe tbody tr th:only-of-type {\n",
       "        vertical-align: middle;\n",
       "    }\n",
       "\n",
       "    .dataframe tbody tr th {\n",
       "        vertical-align: top;\n",
       "    }\n",
       "\n",
       "    .dataframe thead th {\n",
       "        text-align: right;\n",
       "    }\n",
       "</style>\n",
       "<table border=\"1\" class=\"dataframe\">\n",
       "  <thead>\n",
       "    <tr style=\"text-align: right;\">\n",
       "      <th></th>\n",
       "      <th>use</th>\n",
       "      <th>use_alt</th>\n",
       "    </tr>\n",
       "  </thead>\n",
       "  <tbody>\n",
       "    <tr>\n",
       "      <th>0</th>\n",
       "      <td>151.541477</td>\n",
       "      <td>245.458430</td>\n",
       "    </tr>\n",
       "    <tr>\n",
       "      <th>1</th>\n",
       "      <td>271.744979</td>\n",
       "      <td>364.716283</td>\n",
       "    </tr>\n",
       "    <tr>\n",
       "      <th>2</th>\n",
       "      <td>141.612848</td>\n",
       "      <td>193.741085</td>\n",
       "    </tr>\n",
       "    <tr>\n",
       "      <th>3</th>\n",
       "      <td>306.624014</td>\n",
       "      <td>329.680568</td>\n",
       "    </tr>\n",
       "    <tr>\n",
       "      <th>4</th>\n",
       "      <td>223.938583</td>\n",
       "      <td>288.767999</td>\n",
       "    </tr>\n",
       "    <tr>\n",
       "      <th>...</th>\n",
       "      <td>...</td>\n",
       "      <td>...</td>\n",
       "    </tr>\n",
       "    <tr>\n",
       "      <th>95</th>\n",
       "      <td>348.153434</td>\n",
       "      <td>421.692495</td>\n",
       "    </tr>\n",
       "    <tr>\n",
       "      <th>96</th>\n",
       "      <td>260.203439</td>\n",
       "      <td>455.866161</td>\n",
       "    </tr>\n",
       "    <tr>\n",
       "      <th>97</th>\n",
       "      <td>155.020729</td>\n",
       "      <td>187.688873</td>\n",
       "    </tr>\n",
       "    <tr>\n",
       "      <th>98</th>\n",
       "      <td>312.976362</td>\n",
       "      <td>316.497516</td>\n",
       "    </tr>\n",
       "    <tr>\n",
       "      <th>99</th>\n",
       "      <td>183.356608</td>\n",
       "      <td>204.117611</td>\n",
       "    </tr>\n",
       "  </tbody>\n",
       "</table>\n",
       "<p>100 rows × 2 columns</p>\n",
       "</div>"
      ],
      "text/plain": [
       "           use     use_alt\n",
       "0   151.541477  245.458430\n",
       "1   271.744979  364.716283\n",
       "2   141.612848  193.741085\n",
       "3   306.624014  329.680568\n",
       "4   223.938583  288.767999\n",
       "..         ...         ...\n",
       "95  348.153434  421.692495\n",
       "96  260.203439  455.866161\n",
       "97  155.020729  187.688873\n",
       "98  312.976362  316.497516\n",
       "99  183.356608  204.117611\n",
       "\n",
       "[100 rows x 2 columns]"
      ]
     },
     "execution_count": 18,
     "metadata": {},
     "output_type": "execute_result"
    }
   ],
   "source": [
    "# let's give a look\n",
    "df = pd.DataFrame(simulations, columns = ['use','use_alt']) # df is for \"dataframe\"\n",
    "#df.to_csv('ComparativeMCsimulation.csv') # to save it\n",
    "df"
   ]
  },
  {
   "cell_type": "markdown",
   "metadata": {},
   "source": [
    "A summary of these distributions shows that the median (50% percentile) impact score of the alternative (_use-alt_) is higher than the one of the original activity (_use_).\n",
    "\n",
    "The summary also quantified the uncertainy as standard deviation (_sd_), which is large in this case (about half the value of the median)."
   ]
  },
  {
   "cell_type": "code",
   "execution_count": 19,
   "metadata": {},
   "outputs": [
    {
     "data": {
      "text/html": [
       "<div>\n",
       "<style scoped>\n",
       "    .dataframe tbody tr th:only-of-type {\n",
       "        vertical-align: middle;\n",
       "    }\n",
       "\n",
       "    .dataframe tbody tr th {\n",
       "        vertical-align: top;\n",
       "    }\n",
       "\n",
       "    .dataframe thead th {\n",
       "        text-align: right;\n",
       "    }\n",
       "</style>\n",
       "<table border=\"1\" class=\"dataframe\">\n",
       "  <thead>\n",
       "    <tr style=\"text-align: right;\">\n",
       "      <th></th>\n",
       "      <th>use</th>\n",
       "      <th>use_alt</th>\n",
       "    </tr>\n",
       "  </thead>\n",
       "  <tbody>\n",
       "    <tr>\n",
       "      <th>count</th>\n",
       "      <td>100.000000</td>\n",
       "      <td>100.000000</td>\n",
       "    </tr>\n",
       "    <tr>\n",
       "      <th>mean</th>\n",
       "      <td>222.273282</td>\n",
       "      <td>263.441321</td>\n",
       "    </tr>\n",
       "    <tr>\n",
       "      <th>std</th>\n",
       "      <td>75.152583</td>\n",
       "      <td>86.748500</td>\n",
       "    </tr>\n",
       "    <tr>\n",
       "      <th>min</th>\n",
       "      <td>98.517864</td>\n",
       "      <td>99.854005</td>\n",
       "    </tr>\n",
       "    <tr>\n",
       "      <th>25%</th>\n",
       "      <td>154.226355</td>\n",
       "      <td>195.026496</td>\n",
       "    </tr>\n",
       "    <tr>\n",
       "      <th>50%</th>\n",
       "      <td>213.650383</td>\n",
       "      <td>245.204442</td>\n",
       "    </tr>\n",
       "    <tr>\n",
       "      <th>75%</th>\n",
       "      <td>277.144764</td>\n",
       "      <td>329.105739</td>\n",
       "    </tr>\n",
       "    <tr>\n",
       "      <th>max</th>\n",
       "      <td>421.413803</td>\n",
       "      <td>484.401295</td>\n",
       "    </tr>\n",
       "  </tbody>\n",
       "</table>\n",
       "</div>"
      ],
      "text/plain": [
       "              use     use_alt\n",
       "count  100.000000  100.000000\n",
       "mean   222.273282  263.441321\n",
       "std     75.152583   86.748500\n",
       "min     98.517864   99.854005\n",
       "25%    154.226355  195.026496\n",
       "50%    213.650383  245.204442\n",
       "75%    277.144764  329.105739\n",
       "max    421.413803  484.401295"
      ]
     },
     "execution_count": 19,
     "metadata": {},
     "output_type": "execute_result"
    }
   ],
   "source": [
    "df.describe()"
   ]
  },
  {
   "cell_type": "markdown",
   "metadata": {},
   "source": [
    "This is also confirmed by a visual inspection. The distribution of the alternative (_use_alt_) is shifted upwards compared to the original (_use_). Also, there seems to be a linear relation between the two which confirms the paired sampling."
   ]
  },
  {
   "cell_type": "code",
   "execution_count": 20,
   "metadata": {},
   "outputs": [
    {
     "data": {
      "text/plain": [
       "<Axes: >"
      ]
     },
     "execution_count": 20,
     "metadata": {},
     "output_type": "execute_result"
    },
    {
     "data": {
      "image/png": "[encoded data removed]",
      "text/plain": [
       "<Figure size 640x480 with 1 Axes>"
      ]
     },
     "metadata": {},
     "output_type": "display_data"
    }
   ],
   "source": [
    "df.plot(kind = 'box')\n",
    "#df.T.melt()"
   ]
  },
  {
   "cell_type": "markdown",
   "metadata": {},
   "source": [
    "Plotting the results shows a hint of a trend, as expectable as results are paired so each point \"depends\" on the same background conditions."
   ]
  },
  {
   "cell_type": "code",
   "execution_count": 21,
   "metadata": {},
   "outputs": [
    {
     "data": {
      "text/plain": [
       "Text(0, 0.5, 'use_alt - kg CO2-eq')"
      ]
     },
     "execution_count": 21,
     "metadata": {},
     "output_type": "execute_result"
    },
    {
     "data": {
      "image/png": "[encoded data removed]",
      "text/plain": [
       "<Figure size 640x480 with 1 Axes>"
      ]
     },
     "metadata": {},
     "output_type": "display_data"
    }
   ],
   "source": [
    "# plot one against the other to see if there is any trend\n",
    "plt.plot(df['use'], df['use_alt'], 'o')\n",
    "plt.xlabel('use - kg CO2-eq')\n",
    "plt.ylabel('use_alt - kg CO2-eq')"
   ]
  },
  {
   "cell_type": "markdown",
   "metadata": {},
   "source": [
    "### Testing for differences"
   ]
  },
  {
   "cell_type": "markdown",
   "metadata": {},
   "source": [
    "This type of simulation allows to calculate differences and ratios between paired results. This allows to tell how many times one product had a better perfomance than the other across the entire simulation, and how large was this difference. \n",
    "\n",
    "These indicators can help to understand whether the differences observed are sufficiently large, in the light of the uncertainties, to conclude confidently that one product is better than the other, all remaining conditions being equal."
   ]
  },
  {
   "cell_type": "code",
   "execution_count": 22,
   "metadata": {},
   "outputs": [
    {
     "data": {
      "text/html": [
       "<div>\n",
       "<style scoped>\n",
       "    .dataframe tbody tr th:only-of-type {\n",
       "        vertical-align: middle;\n",
       "    }\n",
       "\n",
       "    .dataframe tbody tr th {\n",
       "        vertical-align: top;\n",
       "    }\n",
       "\n",
       "    .dataframe thead th {\n",
       "        text-align: right;\n",
       "    }\n",
       "</style>\n",
       "<table border=\"1\" class=\"dataframe\">\n",
       "  <thead>\n",
       "    <tr style=\"text-align: right;\">\n",
       "      <th></th>\n",
       "      <th>use</th>\n",
       "      <th>use_alt</th>\n",
       "      <th>diffe</th>\n",
       "      <th>rd_use</th>\n",
       "      <th>rd_use_alt</th>\n",
       "    </tr>\n",
       "  </thead>\n",
       "  <tbody>\n",
       "    <tr>\n",
       "      <th>count</th>\n",
       "      <td>100.000000</td>\n",
       "      <td>100.000000</td>\n",
       "      <td>100.000000</td>\n",
       "      <td>100.000000</td>\n",
       "      <td>100.000000</td>\n",
       "    </tr>\n",
       "    <tr>\n",
       "      <th>mean</th>\n",
       "      <td>222.273282</td>\n",
       "      <td>263.441321</td>\n",
       "      <td>-41.168039</td>\n",
       "      <td>-0.221275</td>\n",
       "      <td>-0.134135</td>\n",
       "    </tr>\n",
       "    <tr>\n",
       "      <th>std</th>\n",
       "      <td>75.152583</td>\n",
       "      <td>86.748500</td>\n",
       "      <td>60.582223</td>\n",
       "      <td>0.284962</td>\n",
       "      <td>0.214739</td>\n",
       "    </tr>\n",
       "    <tr>\n",
       "      <th>min</th>\n",
       "      <td>98.517864</td>\n",
       "      <td>99.854005</td>\n",
       "      <td>-212.881498</td>\n",
       "      <td>-0.923315</td>\n",
       "      <td>-0.480064</td>\n",
       "    </tr>\n",
       "    <tr>\n",
       "      <th>25%</th>\n",
       "      <td>154.226355</td>\n",
       "      <td>195.026496</td>\n",
       "      <td>-77.788168</td>\n",
       "      <td>-0.356600</td>\n",
       "      <td>-0.262863</td>\n",
       "    </tr>\n",
       "    <tr>\n",
       "      <th>50%</th>\n",
       "      <td>213.650383</td>\n",
       "      <td>245.204442</td>\n",
       "      <td>-41.961887</td>\n",
       "      <td>-0.200381</td>\n",
       "      <td>-0.166927</td>\n",
       "    </tr>\n",
       "    <tr>\n",
       "      <th>75%</th>\n",
       "      <td>277.144764</td>\n",
       "      <td>329.105739</td>\n",
       "      <td>-5.044026</td>\n",
       "      <td>-0.026937</td>\n",
       "      <td>-0.026229</td>\n",
       "    </tr>\n",
       "    <tr>\n",
       "      <th>max</th>\n",
       "      <td>421.413803</td>\n",
       "      <td>484.401295</td>\n",
       "      <td>138.757348</td>\n",
       "      <td>0.370684</td>\n",
       "      <td>0.589027</td>\n",
       "    </tr>\n",
       "  </tbody>\n",
       "</table>\n",
       "</div>"
      ],
      "text/plain": [
       "              use     use_alt       diffe      rd_use  rd_use_alt\n",
       "count  100.000000  100.000000  100.000000  100.000000  100.000000\n",
       "mean   222.273282  263.441321  -41.168039   -0.221275   -0.134135\n",
       "std     75.152583   86.748500   60.582223    0.284962    0.214739\n",
       "min     98.517864   99.854005 -212.881498   -0.923315   -0.480064\n",
       "25%    154.226355  195.026496  -77.788168   -0.356600   -0.262863\n",
       "50%    213.650383  245.204442  -41.961887   -0.200381   -0.166927\n",
       "75%    277.144764  329.105739   -5.044026   -0.026937   -0.026229\n",
       "max    421.413803  484.401295  138.757348    0.370684    0.589027"
      ]
     },
     "execution_count": 22,
     "metadata": {},
     "output_type": "execute_result"
    }
   ],
   "source": [
    "# You can see how many times the difference is positive. This is what SimaPro also does\n",
    "df['diffe'] = df['use'] - df['use_alt']\n",
    "\n",
    "# Ratio of the difference on each alternative respectively\n",
    "df['rd_use'] = df['diffe']  / df['use']\n",
    "df['rd_use_alt'] = df['diffe']  / df['use_alt']\n",
    "\n",
    "df.describe()"
   ]
  },
  {
   "cell_type": "markdown",
   "metadata": {},
   "source": [
    "In this specific case one can see that out of 100 times the alternative is worse than the based case in three fourths (79%) of cases. And the differences are distributed a bit on the left of the zero. The intepretation is that one can not conclude that the original activity is always outperforming the alternative, given the uncertainties, but the original is often the better option. It is up to the decision maker to set a threshold of performance to make a decision (is 66% sufficient to decide to keep the original and discard the alternative?). "
   ]
  },
  {
   "cell_type": "code",
   "execution_count": 23,
   "metadata": {},
   "outputs": [
    {
     "name": "stdout",
     "output_type": "stream",
     "text": [
      "79\n",
      "21\n",
      "0\n"
     ]
    },
    {
     "data": {
      "image/png": "[encoded data removed]",
      "text/plain": [
       "<Figure size 640x480 with 1 Axes>"
      ]
     },
     "metadata": {},
     "output_type": "display_data"
    }
   ],
   "source": [
    "# Let's plot and count the differences.\n",
    "plt.hist(df.diffe.values)\n",
    "print(len(df.diffe[df.diffe < 0]))\n",
    "print(len(df.diffe[df.diffe > 0]))\n",
    "print(len(df.diffe[df.diffe == 0]))"
   ]
  },
  {
   "cell_type": "markdown",
   "metadata": {},
   "source": [
    "Plotting the ratios shows that the size of differences between alternatives can be very substantial, where the alternative can have an impact that is double than the original, and viceversa (both positive and negative ratios are present). Also, the way ratios are calculated does not influence this conclusion. "
   ]
  },
  {
   "cell_type": "code",
   "execution_count": 24,
   "metadata": {},
   "outputs": [
    {
     "data": {
      "text/plain": [
       "<matplotlib.legend.Legend at 0x167610b90>"
      ]
     },
     "execution_count": 24,
     "metadata": {},
     "output_type": "execute_result"
    },
    {
     "data": {
      "image/png": "[encoded data removed]",
      "text/plain": [
       "<Figure size 640x480 with 1 Axes>"
      ]
     },
     "metadata": {},
     "output_type": "display_data"
    }
   ],
   "source": [
    "plt.hist(df['rd_use'].values, label='rd_use')\n",
    "plt.hist(df['rd_use_alt'].values, label='rd_use_alt')\n",
    "plt.legend()"
   ]
  },
  {
   "cell_type": "markdown",
   "metadata": {},
   "source": [
    "Finally, the paired sampling approach allows to perform a more formal statistical testing such as a paired t-test. This is in order to understand if the difference observed are significant given the underlying uncertainties."
   ]
  },
  {
   "cell_type": "code",
   "execution_count": 25,
   "metadata": {},
   "outputs": [
    {
     "data": {
      "text/plain": [
       "(-6.7953991705114625, 8.18296993879916e-10)"
      ]
     },
     "execution_count": 25,
     "metadata": {},
     "output_type": "execute_result"
    }
   ],
   "source": [
    "# Statistical testing (using the stats package)\n",
    "# I can use a paired t-test\n",
    "\n",
    "t_value, p_value = stats.ttest_rel(df['use'],df['use_alt'])\n",
    "t_value, p_value # very low value"
   ]
  },
  {
   "cell_type": "code",
   "execution_count": 26,
   "metadata": {},
   "outputs": [
    {
     "name": "stdout",
     "output_type": "stream",
     "text": [
      "0.001013409923865085\n",
      "0.0018108485108372326\n"
     ]
    },
    {
     "data": {
      "image/png": "[encoded data removed]",
      "text/plain": [
       "<Figure size 640x480 with 1 Axes>"
      ]
     },
     "metadata": {},
     "output_type": "display_data"
    }
   ],
   "source": [
    "# Checking for normality\n",
    "plt.hist(df['use'].values, label='use')\n",
    "plt.xlabel('use - kg CO2-eq')\n",
    "\n",
    "SW_value, SW_p_value = stats.shapiro(df['use'])\n",
    "print(SW_p_value) # SW_p_value < 0.05, so not normally distributed...\n",
    "\n",
    "plt.hist(df['use_alt'].values, label='use_alt')\n",
    "plt.legend()\n",
    "\n",
    "SW_value, SW_p_value = stats.shapiro(df['use_alt'])\n",
    "print(SW_p_value) # SW_p_value < 0.05, so not normally distributed...\n"
   ]
  },
  {
   "cell_type": "code",
   "execution_count": 27,
   "metadata": {},
   "outputs": [
    {
     "data": {
      "text/plain": [
       "(790.0, 2.4389560324235403e-09)"
      ]
     },
     "execution_count": 27,
     "metadata": {},
     "output_type": "execute_result"
    }
   ],
   "source": [
    "# Using non-parametric test. Wilcox sign rank test\n",
    "s_value, p_value = stats.wilcoxon(df['use'], df['use_alt'])\n",
    "s_value, p_value # Significant difference at p < 0.05"
   ]
  },
  {
   "cell_type": "markdown",
   "metadata": {},
   "source": [
    "Summing up, the statistical tests show a significant difference between the two distributions, which means that even with these uncertainties, we can in fact conclude with high confidence that one alternative is differnet from the other. \n",
    "\n",
    "From the the analysis of differences and trends we see then how large is this difference (two out of three times the original outperforms the alternative). \n",
    "\n",
    "The decision maker is now able to make an informed decision based on these results and a clear understanding of the uncertainties."
   ]
  }
 ],
 "metadata": {
  "kernelspec": {
   "display_name": "brightway",
   "language": "python",
   "name": "python3"
  },
  "language_info": {
   "codemirror_mode": {
    "name": "ipython",
    "version": 3
   },
   "file_extension": ".py",
   "mimetype": "text/x-python",
   "name": "python",
   "nbconvert_exporter": "python",
   "pygments_lexer": "ipython3",
   "version": "3.11.13"
  }
 },
 "nbformat": 4,
 "nbformat_minor": 4
}
