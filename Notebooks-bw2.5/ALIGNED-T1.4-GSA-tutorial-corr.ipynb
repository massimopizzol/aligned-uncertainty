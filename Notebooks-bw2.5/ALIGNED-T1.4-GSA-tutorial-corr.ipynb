{
 "cells": [
  {
   "cell_type": "markdown",
   "id": "85f05f60-698d-441a-86a6-c68bd154daa9",
   "metadata": {},
   "source": [
    "# ALIGNED project: GSA correlation tutorial\n",
    "\n",
    "**Aligning Life Cycle Assessment methods and bio-based sectors for improved environmental performance**\n",
    "\n",
    "[http://www.alignedproject.eu/](http://www.alignedproject.eu/)\n",
    "\n",
    "_Horizon Europe grant agreement N° 101059430. Views and opinions expressed are however those of the author(s) only and do not necessarily reflect those of the European Union or the European Research Executive Agency._ \n",
    "\n",
    "\n",
    "## WP1 Shared modelling framework and learnings\n",
    "### Task 1.4 Framework for interpreting uncertainty\n",
    "\n",
    "#### Deliverable 1.2 Description of scientific methods\n",
    "\n",
    "#### Tutorial for performing Global Sensitivity Analysis using the correlation approach\n",
    "\n",
    "#### Massimo Pizzol, Aalborg University (AAU), 2024\n",
    "\n",
    "This notebook show how to perform a simple Global Sensitivity Analysis (GSA) for a example product system of a biobased product and using correlation analysis to quantify the defree of sensitivity."
   ]
  },
  {
   "cell_type": "code",
   "execution_count": 1,
   "id": "51eb71a0-1d53-4cf9-93fc-527297c3d5b8",
   "metadata": {},
   "outputs": [],
   "source": [
    "# Importing packages\n",
    "import bw2data as bd\n",
    "import bw2calc as bc\n",
    "import pandas as pd\n",
    "import numpy as np\n",
    "from scipy import stats\n",
    "from lci_to_bw2 import * # import all the functions of this module"
   ]
  },
  {
   "cell_type": "code",
   "execution_count": 2,
   "id": "c352ab8e-5b07-4189-92be-3a89bb8c671b",
   "metadata": {},
   "outputs": [],
   "source": [
    "# open a project with ecoinvent v.3.11 consequential system model\n",
    "bd.projects.set_current('advlca25')"
   ]
  },
  {
   "cell_type": "markdown",
   "id": "bdade80a-e5ed-43c1-af52-855c2155b64b",
   "metadata": {},
   "source": [
    "We start by importing data about a fictional (\"dummy\") product system for a biobased product."
   ]
  },
  {
   "cell_type": "code",
   "execution_count": 3,
   "id": "2683e606-47d3-42c9-824f-359aa1bc6291",
   "metadata": {},
   "outputs": [],
   "source": [
    "# Import the dummy product system\n",
    "\n",
    "# import data from csv\n",
    "\n",
    "#mydata = pd.read_csv('LCI1-bw-format.csv', header = 0, sep = \",\") # using csv file avoids encoding problem\n",
    "mydata = pd.read_csv('ALIGNED-LCI-biobased-product-dummy.csv', header = 0, sep = \",\") # using csv file avoids encoding problem\n",
    "mydata.head()\n",
    "\n",
    "# keep only the columns not needed\n",
    "mydb = mydata[['Activity database','Activity code','Activity name','Activity unit','Activity type',\n",
    "               'Exchange database','Exchange input','Exchange amount','Exchange unit','Exchange type',\n",
    "               'Exchange uncertainty type','Exchange loc','Exchange scale','Exchange negative', \n",
    "               'Simapro name',\t'Simapro unit', 'Simapro type']].copy()\n",
    "\n",
    "mydb = mydata.copy()\n",
    "\n",
    "mydb['Exchange uncertainty type'] = mydb['Exchange uncertainty type'].fillna(0).astype(int) # uncertainty as integers\n",
    "# Note: to avoid having both nan and values in the uncertainty column I use zero as default\n",
    "\n",
    "#print(mydb.head())"
   ]
  },
  {
   "cell_type": "code",
   "execution_count": 4,
   "id": "93a9d2cf-d78e-428b-b060-2d030650adaa",
   "metadata": {},
   "outputs": [
    {
     "name": "stdout",
     "output_type": "stream",
     "text": [
      "\u001b[2m11:08:36\u001b[0m [\u001b[33m\u001b[1mwarning  \u001b[0m] \u001b[1mNot able to determine geocollections for all datasets. This database is not ready for regionalization.\u001b[0m\n"
     ]
    },
    {
     "name": "stderr",
     "output_type": "stream",
     "text": [
      "100%|██████████| 5/5 [00:00<00:00, 1545.09it/s]"
     ]
    },
    {
     "name": "stdout",
     "output_type": "stream",
     "text": [
      "\u001b[2m11:08:36\u001b[0m [\u001b[32m\u001b[1minfo     \u001b[0m] \u001b[1mVacuuming database            \u001b[0m\n"
     ]
    },
    {
     "name": "stderr",
     "output_type": "stream",
     "text": [
      "\n"
     ]
    }
   ],
   "source": [
    "# Create dictionary in bw format and write database to disk. \n",
    "# Shut down all other notebooks using the same project before doing this\n",
    "bw2_db = lci_to_bw2(mydb) # a function from the lci_to_bw2 module\n",
    "\n",
    "# write database\n",
    "bd.Database('ALIGNED-biob-prod-dummy').write(bw2_db)"
   ]
  },
  {
   "cell_type": "markdown",
   "id": "5b07dbe0-a4ed-427d-bee3-d6c8888b7723",
   "metadata": {},
   "source": [
    "The product system includes different activities such as the production, use, and end of life of the biobased product."
   ]
  },
  {
   "cell_type": "code",
   "execution_count": 5,
   "id": "5a1f1132-ee27-4d2e-8e52-96751037b1c8",
   "metadata": {},
   "outputs": [
    {
     "name": "stdout",
     "output_type": "stream",
     "text": [
      "'Biobased-product-use' (year, None, None) f9eabf64-b899-40c0-9f9f-2009dbb0a0b2\n",
      "'Biobased-product-manufacturing' (kilogram, None, None) a37d149a-6508-4563-8af6-e5a39b4176df\n",
      "'Biobased-product-eol' (kilogram, None, None) c8301e73-d521-4a89-998b-30b7e7751011\n",
      "'Biomass-growth' (kilogram, None, None) a7d34649-9c10-4423-bac3-ecab9b43b20c\n",
      "'Biomass-processing' (kilogram, None, None) 403a5c32-c769-46fc-8b9a-74b8eb3c79d1\n"
     ]
    }
   ],
   "source": [
    "# check what foreground activities are included\n",
    "for act in bd.Database('ALIGNED-biob-prod-dummy'):\n",
    "    print(act, act['code'])"
   ]
  },
  {
   "cell_type": "code",
   "execution_count": 6,
   "id": "87d2fbc6-0c31-4e91-ba67-c03aa2d9bc87",
   "metadata": {},
   "outputs": [
    {
     "data": {
      "text/plain": [
       "{'name': 'Biobased-product-use',\n",
       " 'unit': 'year',\n",
       " 'type': 'processwithreferenceproduct',\n",
       " 'database': 'ALIGNED-biob-prod-dummy',\n",
       " 'code': 'f9eabf64-b899-40c0-9f9f-2009dbb0a0b2',\n",
       " 'id': 161415763142123521}"
      ]
     },
     "execution_count": 6,
     "metadata": {},
     "output_type": "execute_result"
    }
   ],
   "source": [
    "# More info \n",
    "myact = bd.Database('ALIGNED-biob-prod-dummy').get('f9eabf64-b899-40c0-9f9f-2009dbb0a0b2') # Biobased-product-use\n",
    "myact._data"
   ]
  },
  {
   "cell_type": "code",
   "execution_count": 7,
   "id": "dd2369a1-651d-4a87-8035-e0577f2b484f",
   "metadata": {},
   "outputs": [
    {
     "data": {
      "text/plain": [
       "{'input': ('ALIGNED-biob-prod-dummy', 'a37d149a-6508-4563-8af6-e5a39b4176df'),\n",
       " 'amount': 50.0,\n",
       " 'unit': 'kilogram',\n",
       " 'type': 'technosphere',\n",
       " 'uncertainty type': 4,\n",
       " 'minimum': 37.5,\n",
       " 'maximum': 62.5,\n",
       " 'Notes': 'Input of manufacturing',\n",
       " 'Simapro name': 'Biobased-product-manufacturing',\n",
       " 'Simapro unit': 'kg',\n",
       " 'output': ('ALIGNED-biob-prod-dummy', 'f9eabf64-b899-40c0-9f9f-2009dbb0a0b2')}"
      ]
     },
     "execution_count": 7,
     "metadata": {},
     "output_type": "execute_result"
    }
   ],
   "source": [
    "# Uncertainty is also there\n",
    "list(myact.exchanges())[1]._data"
   ]
  },
  {
   "cell_type": "markdown",
   "id": "fc3ab3c7-ee6b-4d92-b6f9-1ebbb7a923e2",
   "metadata": {},
   "source": [
    "We calculate a static climate impact score for the fictional biobased product, to be used for reference later on."
   ]
  },
  {
   "cell_type": "code",
   "execution_count": 8,
   "id": "bac2b163-a2b1-44d4-a56f-ec7549c2bbe4",
   "metadata": {},
   "outputs": [
    {
     "name": "stdout",
     "output_type": "stream",
     "text": [
      "180.28497357367456\n"
     ]
    }
   ],
   "source": [
    "# calculation of static LCA score\n",
    "mymethod = ('ecoinvent-3.11', 'IPCC 2021', 'climate change: fossil', 'global warming potential (GWP100)')\n",
    "myact = bd.Database('ALIGNED-biob-prod-dummy').get('f9eabf64-b899-40c0-9f9f-2009dbb0a0b2') # Biobased-product-use\n",
    "functional_unit = {myact: 1}\n",
    "LCA = bc.LCA(functional_unit, mymethod)\n",
    "LCA.lci()\n",
    "LCA.lcia()\n",
    "print(LCA.score)"
   ]
  },
  {
   "cell_type": "markdown",
   "id": "d789014d-525b-4bab-a4d7-966c3452177f",
   "metadata": {},
   "source": [
    "### Now perform global sensitivity analysis"
   ]
  },
  {
   "cell_type": "markdown",
   "id": "5c9c0495-2f04-48a3-924f-8538332a78f5",
   "metadata": {},
   "source": [
    "The procedure is in three steps.\n",
    "\n",
    "1) A set of model input parameters is chosen. These are **values of specific exchanges**. A sample of values is produced for each model input, in this case, only 5 values.\n",
    "2) A simulation is performed. Initial prameter values are substituted with those in the sample, iteratively, and new model outputs, that are LCA scores, are calculated.\n",
    "3) A correlation is estimated between model input values and output values."
   ]
  },
  {
   "cell_type": "markdown",
   "id": "bb245484-a9af-4321-90ac-01de584a615f",
   "metadata": {},
   "source": [
    "#### Step 1\n",
    "A sample of values for each parameter."
   ]
  },
  {
   "cell_type": "code",
   "execution_count": 9,
   "id": "eb5f7aa7-699a-47a1-93e9-1170a21046f5",
   "metadata": {},
   "outputs": [],
   "source": [
    "# Can be done in many ways, here very basic using lists.\n",
    "par1_values = [-1.25, -1.10, -1, -0.9, -0.75] # In bomass growth, value of CO2 uptake\n",
    "par2_values = [0.1, 0.3, 0.5, 0.7, 0.9] # In biomass processing, amount of energy used.\n",
    "par3_values = [20,30,40,50,60]  # In use of product, amount of manufactured product needed\n",
    "par4_values = [1.25, 1.10, 1, 0.9, 0.75] # In use of product, amount of manufactured product needed"
   ]
  },
  {
   "cell_type": "markdown",
   "id": "027492d8-294a-43ec-9472-b3f0ce1c8406",
   "metadata": {},
   "source": [
    "Associate the values to specific exchanges using the coordinates (column and row) of the technosphere (A) and biosphere (B) matrices"
   ]
  },
  {
   "cell_type": "code",
   "execution_count": 10,
   "id": "8fe217b1-1d1f-41b4-9e00-a5f1d4df3ba9",
   "metadata": {},
   "outputs": [],
   "source": [
    "param_samples = [(('ALIGNED-biob-prod-dummy', 'a7d34649-9c10-4423-bac3-ecab9b43b20c'), \n",
    "  ('ecoinvent-3.11-biosphere', '349b29d1-3e58-4c66-98b9-9d1a076efd2e'), par1_values), # In bomass growth, value of CO2 uptake\n",
    "(('ALIGNED-biob-prod-dummy', '403a5c32-c769-46fc-8b9a-74b8eb3c79d1'),\n",
    " ('ecoinvent-3.11-consequential', 'a69490974731f9da34043d5c926cd167'), par2_values), # In biomass processing, amount of energy used.\n",
    " (('ALIGNED-biob-prod-dummy', 'f9eabf64-b899-40c0-9f9f-2009dbb0a0b2'),\n",
    "  ('ALIGNED-biob-prod-dummy', 'a37d149a-6508-4563-8af6-e5a39b4176df'), par3_values), # In use of product, amount of manufactured product needed\n",
    "  (('ALIGNED-biob-prod-dummy', 'c8301e73-d521-4a89-998b-30b7e7751011'),\n",
    "   ('ecoinvent-3.11-biosphere', '349b29d1-3e58-4c66-98b9-9d1a076efd2e'), par4_values)] # In end of life, amount of CO2 released"
   ]
  },
  {
   "cell_type": "markdown",
   "id": "a6f3a886-d5d7-400e-98e0-94d2e0c44c36",
   "metadata": {},
   "source": [
    "#### (technical note)\n",
    "\n",
    "We can do the same in a more elegant way, taking the data directly from the BW database that we just created...\n"
   ]
  },
  {
   "cell_type": "code",
   "execution_count": 11,
   "id": "797c2652-0f85-4ceb-bf34-c39073dfa583",
   "metadata": {},
   "outputs": [],
   "source": [
    "# In biomass growth, value of CO2 uptake\n",
    "par1 = list(bd.Database('ALIGNED-biob-prod-dummy').get('a7d34649-9c10-4423-bac3-ecab9b43b20c').exchanges())[3]\n",
    "# In biomass processing, amount of energy used.\n",
    "par2 = list(bd.Database('ALIGNED-biob-prod-dummy').get('403a5c32-c769-46fc-8b9a-74b8eb3c79d1').exchanges())[1]\n",
    "# In use of product, amount of manufactured product needed\n",
    "par3 = list(bd.Database('ALIGNED-biob-prod-dummy').get('f9eabf64-b899-40c0-9f9f-2009dbb0a0b2').exchanges())[1]\n",
    "# In use of product, amount of manufactured product needed\n",
    "par4 = list(bd.Database('ALIGNED-biob-prod-dummy').get('c8301e73-d521-4a89-998b-30b7e7751011').exchanges())[2]\n",
    "\n",
    "n_iter = 5\n",
    "param_samples = [(par1['output'], par1['input'], par1.random_sample(n = n_iter)),\n",
    "                 (par1['output'], par2['input'], par2.random_sample(n = n_iter)),\n",
    "                 (par1['output'], par3['input'], par3.random_sample(n = n_iter)),\n",
    "                 (par1['output'], par4['input'], par4.random_sample(n = n_iter))]"
   ]
  },
  {
   "cell_type": "markdown",
   "id": "57aa1310-588e-499a-b48f-d06022173651",
   "metadata": {},
   "source": [
    "Let's look at the samples obtained"
   ]
  },
  {
   "cell_type": "code",
   "execution_count": 12,
   "id": "6ed85f5c-85c4-4f60-981b-1deca899efe5",
   "metadata": {},
   "outputs": [
    {
     "data": {
      "text/plain": [
       "[(('ALIGNED-biob-prod-dummy', 'a7d34649-9c10-4423-bac3-ecab9b43b20c'),\n",
       "  ('ecoinvent-3.11-biosphere', '349b29d1-3e58-4c66-98b9-9d1a076efd2e'),\n",
       "  array([-0.76595462, -1.06695893, -0.88963154, -1.20323493, -1.04126252])),\n",
       " (('ALIGNED-biob-prod-dummy', 'a7d34649-9c10-4423-bac3-ecab9b43b20c'),\n",
       "  ('ecoinvent-3.11-consequential', 'a69490974731f9da34043d5c926cd167'),\n",
       "  array([0.40004861, 0.45875467, 0.49982007, 0.50283803, 0.43173111])),\n",
       " (('ALIGNED-biob-prod-dummy', 'a7d34649-9c10-4423-bac3-ecab9b43b20c'),\n",
       "  ('ALIGNED-biob-prod-dummy', 'a37d149a-6508-4563-8af6-e5a39b4176df'),\n",
       "  array([62.13814778, 45.52723927, 45.45383527, 48.05859881, 50.3156843 ])),\n",
       " (('ALIGNED-biob-prod-dummy', 'a7d34649-9c10-4423-bac3-ecab9b43b20c'),\n",
       "  ('ecoinvent-3.11-biosphere', '349b29d1-3e58-4c66-98b9-9d1a076efd2e'),\n",
       "  array([1.22704136, 1.03768889, 1.01804711, 1.1416563 , 1.12582441]))]"
      ]
     },
     "execution_count": 12,
     "metadata": {},
     "output_type": "execute_result"
    }
   ],
   "source": [
    "param_samples"
   ]
  },
  {
   "cell_type": "markdown",
   "id": "e6d4dfdb-61dc-4dee-882c-1c8dc414b8ab",
   "metadata": {},
   "source": [
    "#### Step 2\n",
    "\n",
    "Iteration through all parameter samples. Input values are replaced and new impact scores are calculated at each iteration."
   ]
  },
  {
   "cell_type": "code",
   "execution_count": 41,
   "id": "479e6582",
   "metadata": {},
   "outputs": [
    {
     "name": "stdout",
     "output_type": "stream",
     "text": [
      "biosphere value: -1.0 | paramater value: -0.7659546182429033\n",
      "technosphere value: 0.0 | paramater value: -0.4000486120989718\n",
      "technosphere value: 0.0 | paramater value: -62.13814777860145\n",
      "biosphere value: -1.0 | paramater value: 1.227041364823212\n",
      "* * *\n",
      "biosphere value: -1.0 | paramater value: -1.0669589270744357\n",
      "technosphere value: 0.0 | paramater value: -0.4587546698769527\n",
      "technosphere value: 0.0 | paramater value: -45.527239267669266\n",
      "biosphere value: -1.0 | paramater value: 1.0376888884217577\n",
      "* * *\n",
      "biosphere value: -1.0 | paramater value: -0.8896315389985598\n",
      "technosphere value: 0.0 | paramater value: -0.49982007289101615\n",
      "technosphere value: 0.0 | paramater value: -45.45383527455697\n",
      "biosphere value: -1.0 | paramater value: 1.018047113624029\n",
      "* * *\n",
      "biosphere value: -1.0 | paramater value: -1.2032349307070134\n",
      "technosphere value: 0.0 | paramater value: -0.5028380334752284\n",
      "technosphere value: 0.0 | paramater value: -48.05859880894107\n",
      "biosphere value: -1.0 | paramater value: 1.1416562971269766\n",
      "* * *\n",
      "biosphere value: -1.0 | paramater value: -1.0412625182260795\n",
      "technosphere value: 0.0 | paramater value: -0.43173110681124993\n",
      "technosphere value: 0.0 | paramater value: -50.31568430118084\n",
      "biosphere value: -1.0 | paramater value: 1.1258244064203535\n",
      "* * *\n"
     ]
    }
   ],
   "source": [
    "# testing the loop that will be used for the simulation, iterate through parameter values\n",
    "    \n",
    "for i in range(0,n_iter): # iterate 5 times...\n",
    "    for s in param_samples: # and for each paramater...\n",
    "        \n",
    "        # Get the 'id' using the activity object\n",
    "        col_id = bd.Database(s[0][0]).get(s[0][1]).id\n",
    "        row_id = bd.Database(s[1][0]).get(s[1][1]).id\n",
    "\n",
    "        \n",
    "        # Use the id and the mapping dictionaries to find matrix row and columns\n",
    "        if s[1][0] == 'ecoinvent-3.11-biosphere':\n",
    "            col = LCA.dicts.activity[col_id] # find column index of A matrix for the activity\n",
    "            row = LCA.dicts.biosphere[row_id] # find row index of B matrix for the exchange\n",
    "            print(f\"biosphere value: {LCA.biosphere_matrix[row,col]} | paramater value: {s[2][i]}\")\n",
    "        else:\n",
    "            col = LCA.dicts.activity[col_id] # find column index of A matrix for the activity\n",
    "            row = LCA.dicts.activity[row_id] # find row index of A matrix for the exchange\n",
    "            print(f\"technosphere value: {LCA.technosphere_matrix[row,col]} | paramater value: {-s[2][i]}\") # CHANGE OF SIGN!\n",
    "        \n",
    "    print(\"* * *\")"
   ]
  },
  {
   "cell_type": "code",
   "execution_count": 14,
   "id": "12c529b4-cc55-4d7a-aa96-45a5a077198d",
   "metadata": {},
   "outputs": [
    {
     "name": "stdout",
     "output_type": "stream",
     "text": [
      "initial value 180.28497357367456\n"
     ]
    },
    {
     "name": "stderr",
     "output_type": "stream",
     "text": [
      "/opt/miniconda3/envs/bw25/lib/python3.13/site-packages/scipy/sparse/_index.py:155: SparseEfficiencyWarning: Changing the sparsity structure of a csr_matrix is expensive. lil and dok are more efficient.\n",
      "  self._set_intXint(row, col, x.flat[0])\n"
     ]
    },
    {
     "name": "stdout",
     "output_type": "stream",
     "text": [
      "end value 44.79417146262437\n",
      "---\n",
      "initial value 180.28497357367456\n",
      "end value 42.65635967873796\n",
      "---\n",
      "initial value 180.28497357367456\n",
      "end value 42.66314111474569\n",
      "---\n",
      "initial value 180.28497357367456\n",
      "end value 42.998007601962414\n",
      "---\n",
      "initial value 180.28497357367456\n",
      "end value 43.38910174433519\n",
      "---\n"
     ]
    }
   ],
   "source": [
    "# Implementing the loop\n",
    "import copy # a library helps to save the original matrices\n",
    "\n",
    "GSA_value_results = []\n",
    "\n",
    "for i in range(0,n_iter): \n",
    "    LCA.lci()\n",
    "    LCA.lcia()\n",
    "    print(\"initial value\", LCA.score)\n",
    "    \n",
    "    old_bio_matrix = copy.deepcopy(LCA.biosphere_matrix)\n",
    "    old_tech_matrix = copy.deepcopy(LCA.technosphere_matrix)\n",
    "    \n",
    "    for s in param_samples:\n",
    "        col_id = bd.Database(s[0][0]).get(s[0][1]).id\n",
    "        row_id = bd.Database(s[1][0]).get(s[1][1]).id\n",
    "\n",
    "        if s[1][0] == 'ecoinvent-3.11-biosphere':\n",
    "            col = LCA.dicts.activity[col_id] # find column index of A matrix for the activity\n",
    "            row = LCA.dicts.biosphere[row_id] # find row index of B matrix for the exchange\n",
    "            new_bio = s[2][i]\n",
    "            LCA.biosphere_matrix[row,col] = new_bio # substitute the value\n",
    "        else:\n",
    "            col = LCA.dicts.activity[col_id] # find column index of A matrix for the activity\n",
    "            row = LCA.dicts.activity[row_id] # find row index of A matrix for the exchange\n",
    "            new_tech = -s[2][i]\n",
    "            LCA.technosphere_matrix[row,col] = new_tech # substitute the value\n",
    "                \n",
    "    LCA.redo_lci() # uses the new A matrix\n",
    "    LCA.lcia()\n",
    "    GSA_value_results.append(LCA.score)\n",
    "    print('end value', LCA.score)\n",
    "    print(\"---\")\n",
    "\n",
    "    # Restore the original matrices\n",
    "    LCA.biosphere_matrix = old_bio_matrix\n",
    "    LCA.technosphere_matrix = old_tech_matrix\n",
    "\n"
   ]
  },
  {
   "cell_type": "markdown",
   "id": "53eb6494-b3ad-42fa-8bd0-f96d344461ea",
   "metadata": {},
   "source": [
    "#### Step 3\n",
    "\n",
    "Now we have both the input and output values and we can look at their correlation.\n",
    "\n",
    "To estimate the degree of correlation use a Pearson coefficient of linear relationship between two sets of values.\n",
    "\n",
    "See here for info: \n",
    "https://en.wikipedia.org/wiki/Pearson_correlation_coefficient\n",
    "https://docs.scipy.org/doc/scipy/reference/generated/scipy.stats.pearsonr.html\n",
    "\n",
    "This approach has for example been used in:\n",
    "\n",
    "_Kim, A., Mutel, C., Froemelt, A., 2021. Robust high-dimensional screening. Environmental Modelling & Software 105270._ https://doi.org/10.1016/j.envsoft.2021.105270\n"
   ]
  },
  {
   "cell_type": "code",
   "execution_count": 15,
   "id": "34eb51f9-baf0-414a-aa29-ce672d3c69ce",
   "metadata": {},
   "outputs": [
    {
     "data": {
      "text/html": [
       "<div>\n",
       "<style scoped>\n",
       "    .dataframe tbody tr th:only-of-type {\n",
       "        vertical-align: middle;\n",
       "    }\n",
       "\n",
       "    .dataframe tbody tr th {\n",
       "        vertical-align: top;\n",
       "    }\n",
       "\n",
       "    .dataframe thead th {\n",
       "        text-align: right;\n",
       "    }\n",
       "</style>\n",
       "<table border=\"1\" class=\"dataframe\">\n",
       "  <thead>\n",
       "    <tr style=\"text-align: right;\">\n",
       "      <th></th>\n",
       "      <th>par1</th>\n",
       "      <th>par2</th>\n",
       "      <th>par3</th>\n",
       "      <th>par4</th>\n",
       "      <th>GWI</th>\n",
       "    </tr>\n",
       "  </thead>\n",
       "  <tbody>\n",
       "    <tr>\n",
       "      <th>par1</th>\n",
       "      <td>1.000000</td>\n",
       "      <td>-0.570894</td>\n",
       "      <td>0.643742</td>\n",
       "      <td>0.262231</td>\n",
       "      <td>0.633671</td>\n",
       "    </tr>\n",
       "    <tr>\n",
       "      <th>par2</th>\n",
       "      <td>-0.570894</td>\n",
       "      <td>1.000000</td>\n",
       "      <td>-0.812483</td>\n",
       "      <td>-0.647388</td>\n",
       "      <td>-0.826205</td>\n",
       "    </tr>\n",
       "    <tr>\n",
       "      <th>par3</th>\n",
       "      <td>0.643742</td>\n",
       "      <td>-0.812483</td>\n",
       "      <td>1.000000</td>\n",
       "      <td>0.899324</td>\n",
       "      <td>0.998476</td>\n",
       "    </tr>\n",
       "    <tr>\n",
       "      <th>par4</th>\n",
       "      <td>0.262231</td>\n",
       "      <td>-0.647388</td>\n",
       "      <td>0.899324</td>\n",
       "      <td>1.000000</td>\n",
       "      <td>0.904875</td>\n",
       "    </tr>\n",
       "    <tr>\n",
       "      <th>GWI</th>\n",
       "      <td>0.633671</td>\n",
       "      <td>-0.826205</td>\n",
       "      <td>0.998476</td>\n",
       "      <td>0.904875</td>\n",
       "      <td>1.000000</td>\n",
       "    </tr>\n",
       "  </tbody>\n",
       "</table>\n",
       "</div>"
      ],
      "text/plain": [
       "          par1      par2      par3      par4       GWI\n",
       "par1  1.000000 -0.570894  0.643742  0.262231  0.633671\n",
       "par2 -0.570894  1.000000 -0.812483 -0.647388 -0.826205\n",
       "par3  0.643742 -0.812483  1.000000  0.899324  0.998476\n",
       "par4  0.262231 -0.647388  0.899324  1.000000  0.904875\n",
       "GWI   0.633671 -0.826205  0.998476  0.904875  1.000000"
      ]
     },
     "execution_count": 15,
     "metadata": {},
     "output_type": "execute_result"
    }
   ],
   "source": [
    "# calcualte correlation\n",
    "\n",
    "corr_data = pd.DataFrame([i[2] for i in param_samples], index = ['par1','par2', 'par3', 'par4']).T\n",
    "corr_data['GWI'] = GSA_value_results\n",
    "corr_data.corr()"
   ]
  },
  {
   "cell_type": "markdown",
   "id": "a0023c8f-8205-4c4b-a2d3-24cca5ff1c8a",
   "metadata": {},
   "source": [
    "In this specific case \"par3\"  is the parameter to which the results are most sensitive to.\n"
   ]
  },
  {
   "cell_type": "code",
   "execution_count": 16,
   "id": "b1937deb-8701-42ad-a38c-740e47856865",
   "metadata": {},
   "outputs": [
    {
     "data": {
      "text/plain": [
       "Exchange: 50.0 kilogram 'Biobased-product-manufacturing' (kilogram, None, None) to 'Biobased-product-use' (year, None, None)>"
      ]
     },
     "execution_count": 16,
     "metadata": {},
     "output_type": "execute_result"
    }
   ],
   "source": [
    "# what was \"par3\" again?\n",
    "par3 # amount of manufactured product need din the use stage"
   ]
  }
 ],
 "metadata": {
  "kernelspec": {
   "display_name": "bw25",
   "language": "python",
   "name": "python3"
  },
  "language_info": {
   "codemirror_mode": {
    "name": "ipython",
    "version": 3
   },
   "file_extension": ".py",
   "mimetype": "text/x-python",
   "name": "python",
   "nbconvert_exporter": "python",
   "pygments_lexer": "ipython3",
   "version": "3.13.1"
  }
 },
 "nbformat": 4,
 "nbformat_minor": 5
}
