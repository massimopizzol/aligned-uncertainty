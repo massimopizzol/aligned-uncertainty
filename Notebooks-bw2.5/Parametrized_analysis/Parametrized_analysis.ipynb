{
 "cells": [
  {
   "cell_type": "markdown",
   "id": "0a1a1fc0",
   "metadata": {},
   "source": [
    "# Parametric uncertainty and sensitivity analysis"
   ]
  },
  {
   "cell_type": "markdown",
   "id": "afab9928",
   "metadata": {},
   "source": [
    "# ALIGNED project: OTA tutorial\n",
    "\n",
    "**Aligning Life Cycle Assessment methods and bio-based sectors for improved environmental performance**\n",
    "\n",
    "[http://www.alignedproject.eu/](http://www.alignedproject.eu/)\n",
    "\n",
    "_Horizon Europe grant agreement N° 101059430. Views and opinions expressed are however those of the author(s) only and do not necessarily reflect those of the European Union or the European Research Executive Agency._ "
   ]
  },
  {
   "cell_type": "markdown",
   "id": "677b6716",
   "metadata": {},
   "source": [
    "## WP1 Shared modelling framework and learnings\n",
    "### Task 1.4 Framework for interpreting uncertainty\n",
    "#### Deliverable 1.2 Description of scientific methods\n",
    "#### Tutorial for performing parametrized sensitivity and uncertainty analyses\n",
    "Rebecca Belfiore, Institut National des Sciences Appliquées Toulouse (INSAT), 2025\n",
    "\n",
    "This notebook show how to perform a simple uncertainty and sensitivity analyses (OAT, GSA, and MC) for parametrized inventories."
   ]
  },
  {
   "cell_type": "code",
   "execution_count": 9,
   "id": "ad5d6f14",
   "metadata": {},
   "outputs": [],
   "source": [
    "# Import brightway2.5 packages\n",
    "import bw2calc as bc\n",
    "import bw2data as bd\n",
    "import bw2io as bi\n",
    "import bw_processing as bwp\n",
    "from bw2data.parameters import *\n",
    "from bw2data.backends.schema import ExchangeDataset\n",
    "\n",
    "# Import other relevant packages\n",
    "import numpy as np\n",
    "import pandas as pd\n",
    "from matplotlib import pyplot as plt\n",
    "\n",
    "# Import specific functions to import LCI\n",
    "from lci_to_bw2 import *\n",
    "from Importer_parameters import * # this is to import parameters"
   ]
  },
  {
   "cell_type": "markdown",
   "id": "1adc795e",
   "metadata": {},
   "source": [
    "## Import Data"
   ]
  },
  {
   "cell_type": "code",
   "execution_count": 10,
   "id": "bbfc09ee",
   "metadata": {},
   "outputs": [
    {
     "data": {
      "text/plain": [
       "Databases dictionary with 5 object(s):\n",
       "\tALIGNED-biob-prod-dummy\n",
       "\tALIGNED-biob-prod-dummy-alt\n",
       "\tcmc\n",
       "\tecoinvent-3.11-biosphere\n",
       "\tecoinvent-3.11-consequential"
      ]
     },
     "execution_count": 10,
     "metadata": {},
     "output_type": "execute_result"
    }
   ],
   "source": [
    "# Select a project that contains the right versions of ecoinvent and biosphere\n",
    "bd.projects.set_current('advlca25')\n",
    "bd.databases"
   ]
  },
  {
   "cell_type": "code",
   "execution_count": 11,
   "id": "45d0089c",
   "metadata": {},
   "outputs": [
    {
     "name": "stdout",
     "output_type": "stream",
     "text": [
      "\u001b[2m13:13:35+0200\u001b[0m [\u001b[33m\u001b[1mwarning  \u001b[0m] \u001b[1mNot able to determine geocollections for all datasets. This database is not ready for regionalization.\u001b[0m\n"
     ]
    },
    {
     "name": "stderr",
     "output_type": "stream",
     "text": [
      "100%|██████████| 5/5 [00:00<00:00, 7648.26it/s]"
     ]
    },
    {
     "name": "stdout",
     "output_type": "stream",
     "text": [
      "\u001b[2m13:13:35+0200\u001b[0m [\u001b[32m\u001b[1minfo     \u001b[0m] \u001b[1mVacuuming database            \u001b[0m\n"
     ]
    },
    {
     "name": "stderr",
     "output_type": "stream",
     "text": [
      "\n"
     ]
    }
   ],
   "source": [
    "# Import the dummy product system with the added columns 'formula' and 'group'\n",
    "# import data from csv\n",
    "import os\n",
    "mydata = pd.read_csv(os.path.join(os.getcwd(), 'ALIGNED-LCI-biobased-product-dummy.csv'), header = 0, sep = \",\") # using csv file avoids encoding problem\n",
    "\n",
    "bw2_db = lci_to_bw2(mydata) # a function from the lci_to_bw2 module\n",
    "\n",
    "# write database\n",
    "bd.Database('ALIGNED-biob-prod-dummy').write(bw2_db)"
   ]
  },
  {
   "cell_type": "markdown",
   "id": "976f5b5e",
   "metadata": {},
   "source": [
    "Take a look at the activities imported and the relative flows as well as the formulas of the parametrized flows"
   ]
  },
  {
   "cell_type": "code",
   "execution_count": 12,
   "id": "193c66d1",
   "metadata": {},
   "outputs": [
    {
     "name": "stdout",
     "output_type": "stream",
     "text": [
      "'Biomass-processing' (kilogram, None, None)\n",
      "Exchange: 1.0 kilogram 'Biomass-processing' (kilogram, None, None) to 'Biomass-processing' (kilogram, None, None)>\n",
      "Exchange: 0.5 kilowatt hour 'market for electricity, medium voltage' (kilowatt hour, DK, None) to 'Biomass-processing' (kilogram, None, None)>\n",
      "Exchange: 0.5 kilogram 'market for chemical, organic' (kilogram, GLO, None) to 'Biomass-processing' (kilogram, None, None)>\n",
      "(chemical_constant*(1-water_content))/reactor_efficiency activity_group\n",
      "'Biobased-product-eol' (kilogram, None, None)\n",
      "Exchange: 1.0 kilogram 'Biobased-product-eol' (kilogram, None, None) to 'Biobased-product-eol' (kilogram, None, None)>\n",
      "Exchange: 0.5 kilowatt hour 'market for electricity, medium voltage' (kilowatt hour, DK, None) to 'Biobased-product-eol' (kilogram, None, None)>\n",
      "Exchange: 1.0 kilogram 'Carbon dioxide, fossil' (kilogram, None, ('air',)) to 'Biobased-product-eol' (kilogram, None, None)>\n",
      "'Biobased-product-manufacturing' (kilogram, None, None)\n",
      "Exchange: 1.0 kilogram 'Biobased-product-manufacturing' (kilogram, None, None) to 'Biobased-product-manufacturing' (kilogram, None, None)>\n",
      "Exchange: 0.5 kilogram 'Biomass-growth' (kilogram, None, None) to 'Biobased-product-manufacturing' (kilogram, None, None)>\n",
      "dry_mass_for_manufacturing/(1-water_content) activity_group\n",
      "Exchange: 0.5 kilogram 'Biomass-processing' (kilogram, None, None) to 'Biobased-product-manufacturing' (kilogram, None, None)>\n",
      "Exchange: 0.5 kilowatt hour 'market for electricity, medium voltage' (kilowatt hour, DK, None) to 'Biobased-product-manufacturing' (kilogram, None, None)>\n",
      "(0.36/manufacturing_efficiency)+running_electricity activity_group\n",
      "'Biomass-growth' (kilogram, None, None)\n",
      "Exchange: 1.0 kilogram 'Biomass-growth' (kilogram, None, None) to 'Biomass-growth' (kilogram, None, None)>\n",
      "Exchange: 0.5 kilogram 'nutrient supply from NPK (26-15-15) fertiliser' (kilogram, RoW, None) to 'Biomass-growth' (kilogram, None, None)>\n",
      "Exchange: 0.5 kilogram 'market for tap water' (kilogram, Europe without Switzerland, None) to 'Biomass-growth' (kilogram, None, None)>\n",
      "Exchange: -1.0 kilogram 'Carbon dioxide, fossil' (kilogram, None, ('air',)) to 'Biomass-growth' (kilogram, None, None)>\n",
      "'Biobased-product-use' (year, None, None)\n",
      "Exchange: 1.0 year 'Biobased-product-use' (year, None, None) to 'Biobased-product-use' (year, None, None)>\n",
      "Exchange: 50.0 kilogram 'Biobased-product-manufacturing' (kilogram, None, None) to 'Biobased-product-use' (year, None, None)>\n",
      "Exchange: 50.0 kilogram 'Biobased-product-eol' (kilogram, None, None) to 'Biobased-product-use' (year, None, None)>\n",
      "Exchange: 0.1 ton kilometer 'market for transport, freight, lorry, >32 metric ton, diesel, EURO 6' (ton kilometer, RER, None) to 'Biobased-product-use' (year, None, None)>\n"
     ]
    }
   ],
   "source": [
    "for a in bd.Database('ALIGNED-biob-prod-dummy'):\n",
    "    print(a)\n",
    "    for e in a.exchanges():\n",
    "        print(e)\n",
    "        e_dic = dict(e)\n",
    "        if e_dic.get('formula') is not None:\n",
    "            print(e_dic['formula'],e_dic['group'])"
   ]
  },
  {
   "cell_type": "markdown",
   "id": "c3f46b9e",
   "metadata": {},
   "source": [
    "### Import parameters"
   ]
  },
  {
   "cell_type": "markdown",
   "id": "6da979f2",
   "metadata": {},
   "source": [
    "Parameters are imported seperatly from a separate csv"
   ]
  },
  {
   "cell_type": "code",
   "execution_count": 13,
   "id": "81881860",
   "metadata": {},
   "outputs": [],
   "source": [
    "myparameters = pd.read_csv(os.path.join(os.getcwd(), 'ALIGNED-LCI-biobased-product-parameters-dummy.csv'), header = 0, sep = \",\") # path to the csv file containing the parameters\n",
    "\n",
    "parameters_to_bw(myparameters) # a custom function to import parameters"
   ]
  },
  {
   "cell_type": "code",
   "execution_count": 14,
   "id": "d22d9f0a",
   "metadata": {},
   "outputs": [
    {
     "name": "stdout",
     "output_type": "stream",
     "text": [
      "Activity parameter: activity_group:water_content 0.4\n",
      "Activity parameter: activity_group:dry_mass_for_manufacturing 0.3\n",
      "Activity parameter: activity_group:manufacturing_efficiency 0.9\n",
      "Activity parameter: activity_group:running_electricity 0.1\n",
      "Activity parameter: activity_group:chemical_constant 0.5\n",
      "Activity parameter: activity_group:reactor_efficiency 0.6\n"
     ]
    }
   ],
   "source": [
    "# print out the parameters you imported\n",
    "for a in ActivityParameter:\n",
    "    print(a, a.amount)\n",
    "    a.recalculate_exchanges(a.group) # to recalculate exchanges according to parameter values"
   ]
  },
  {
   "cell_type": "markdown",
   "id": "fff42de2",
   "metadata": {},
   "source": [
    "## Static LCA "
   ]
  },
  {
   "cell_type": "code",
   "execution_count": 15,
   "id": "b2602863",
   "metadata": {},
   "outputs": [
    {
     "name": "stdout",
     "output_type": "stream",
     "text": [
      "The static Global Warming impact score is 180.28497364203196 kg CO2-Eq\n"
     ]
    }
   ],
   "source": [
    "# calculation of static LCA score\n",
    "mymethod = ('ecoinvent-3.11', 'IPCC 2021', 'climate change: fossil', 'global warming potential (GWP100)')\n",
    "myact = bd.Database('ALIGNED-biob-prod-dummy').get('f9eabf64-b899-40c0-9f9f-2009dbb0a0b2') # Biobased-product-use\n",
    "functional_unit = {myact: 1}\n",
    "LCA = bc.LCA(functional_unit, mymethod)\n",
    "LCA.lci()\n",
    "LCA.lcia()\n",
    "print(\"The static Global Warming impact score is\", LCA.score, bd.methods[mymethod]['unit'])"
   ]
  },
  {
   "cell_type": "markdown",
   "id": "ed89b03e",
   "metadata": {},
   "source": [
    "We can now perform OAT, GSA, and MC on parametric inventories"
   ]
  },
  {
   "cell_type": "markdown",
   "id": "12fddf0c",
   "metadata": {},
   "source": [
    "## OAT analysis"
   ]
  },
  {
   "cell_type": "code",
   "execution_count": 16,
   "id": "dc821de6",
   "metadata": {},
   "outputs": [],
   "source": [
    "# run this cell to import the fucntion that will allow to update parameter values\n",
    "def update_parameter(parameter, amount):\n",
    "    ''' \n",
    "    This function allows to update parameter values to a specific amount\n",
    "\n",
    "    Inputs:\n",
    "    - parameter: the Activity parameter object to update\n",
    "    - amount: the amount to which to set the parameter\n",
    "    '''\n",
    "    \n",
    "    parameter.amount = amount\n",
    "    parameter.save()\n",
    "\n",
    "    parameter.recalculate_exchanges(parameter.group)"
   ]
  },
  {
   "cell_type": "markdown",
   "id": "3a61c071",
   "metadata": {},
   "source": [
    "The next cell will perform the OAT analysis perturbating a parameter at a time and calculating LCA results."
   ]
  },
  {
   "cell_type": "code",
   "execution_count": 17,
   "id": "8421d117",
   "metadata": {},
   "outputs": [
    {
     "name": "stdout",
     "output_type": "stream",
     "text": [
      "initial value 180.28497364203196\n",
      "water_content\n",
      "end value 184.60376194042715\n",
      "---\n",
      "initial value 180.28497364203196\n",
      "dry_mass_for_manufacturing\n",
      "end value 189.5869665742057\n",
      "---\n",
      "initial value 180.28497364203196\n",
      "manufacturing_efficiency\n",
      "end value 180.21596042559023\n",
      "---\n",
      "initial value 180.28497364203196\n",
      "running_electricity\n",
      "end value 180.3039522673404\n",
      "---\n",
      "initial value 180.28497364203196\n",
      "chemical_constant\n",
      "end value 183.77320604903537\n",
      "---\n",
      "initial value 180.28497364203196\n",
      "reactor_efficiency\n",
      "end value 177.11385491060764\n",
      "---\n"
     ]
    }
   ],
   "source": [
    "# Iterate through all parameters and change the value up by 10%\n",
    "par_name = []\n",
    "par_values = []\n",
    "par_upper_values = []\n",
    "score_values = []\n",
    "OAT_values  = []\n",
    "\n",
    "mymethod = ('ecoinvent-3.11', 'IPCC 2021', 'climate change: fossil', 'global warming potential (GWP100)')\n",
    "myact = bd.Database('ALIGNED-biob-prod-dummy').get('f9eabf64-b899-40c0-9f9f-2009dbb0a0b2') # Biobased-product-use\n",
    "functional_unit = {myact: 1}\n",
    "LCA = bc.LCA(functional_unit, mymethod)\n",
    "\n",
    "\n",
    "\n",
    "for p in ActivityParameter: # for all parameters\n",
    "    par_name.append(p.name)\n",
    "    start_value = p.amount\n",
    "    par_values.append(start_value)\n",
    "    par_upper_values.append(p.amount * 1.1)\n",
    "\n",
    "    LCA = bc.LCA(demand=functional_unit, method = mymethod)\n",
    "    LCA.lci()\n",
    "    LCA.lcia()\n",
    "    print(\"initial value\", LCA.score)\n",
    "    \n",
    "    score_values.append(LCA.score)\n",
    "\n",
    "    # change the parameter value\n",
    "    update_parameter(p, start_value * 1.1)\n",
    "\n",
    "    # recalculate the LCA score\n",
    "    LCA = bc.LCA(demand=functional_unit, method = mymethod)\n",
    "    LCA.lci()\n",
    "    LCA.lcia()\n",
    "    new_score = LCA.score\n",
    "\n",
    "    OAT_values.append(LCA.score)\n",
    "\n",
    "    print(p.name)\n",
    "    print('end value', LCA.score)\n",
    "    print(\"---\")\n",
    "        \n",
    "    # Restore parameters to their original values...\n",
    "    update_parameter(p, start_value)"
   ]
  },
  {
   "cell_type": "markdown",
   "id": "bf3592a6",
   "metadata": {},
   "source": [
    "Treat data results to calculate sensitvity ratios"
   ]
  },
  {
   "cell_type": "code",
   "execution_count": 18,
   "id": "b52b2656",
   "metadata": {},
   "outputs": [
    {
     "data": {
      "text/html": [
       "<div>\n",
       "<style scoped>\n",
       "    .dataframe tbody tr th:only-of-type {\n",
       "        vertical-align: middle;\n",
       "    }\n",
       "\n",
       "    .dataframe tbody tr th {\n",
       "        vertical-align: top;\n",
       "    }\n",
       "\n",
       "    .dataframe thead th {\n",
       "        text-align: right;\n",
       "    }\n",
       "</style>\n",
       "<table border=\"1\" class=\"dataframe\">\n",
       "  <thead>\n",
       "    <tr style=\"text-align: right;\">\n",
       "      <th></th>\n",
       "      <th>par_name</th>\n",
       "      <th>par_initial</th>\n",
       "      <th>par_upper</th>\n",
       "      <th>GWI_initial</th>\n",
       "      <th>GWI_end</th>\n",
       "    </tr>\n",
       "  </thead>\n",
       "  <tbody>\n",
       "    <tr>\n",
       "      <th>0</th>\n",
       "      <td>water_content</td>\n",
       "      <td>0.4</td>\n",
       "      <td>0.44</td>\n",
       "      <td>180.284974</td>\n",
       "      <td>184.603762</td>\n",
       "    </tr>\n",
       "    <tr>\n",
       "      <th>1</th>\n",
       "      <td>dry_mass_for_manufacturing</td>\n",
       "      <td>0.3</td>\n",
       "      <td>0.33</td>\n",
       "      <td>180.284974</td>\n",
       "      <td>189.586967</td>\n",
       "    </tr>\n",
       "    <tr>\n",
       "      <th>2</th>\n",
       "      <td>manufacturing_efficiency</td>\n",
       "      <td>0.9</td>\n",
       "      <td>0.99</td>\n",
       "      <td>180.284974</td>\n",
       "      <td>180.21596</td>\n",
       "    </tr>\n",
       "    <tr>\n",
       "      <th>3</th>\n",
       "      <td>running_electricity</td>\n",
       "      <td>0.1</td>\n",
       "      <td>0.11</td>\n",
       "      <td>180.284974</td>\n",
       "      <td>180.303952</td>\n",
       "    </tr>\n",
       "    <tr>\n",
       "      <th>4</th>\n",
       "      <td>chemical_constant</td>\n",
       "      <td>0.5</td>\n",
       "      <td>0.55</td>\n",
       "      <td>180.284974</td>\n",
       "      <td>183.773206</td>\n",
       "    </tr>\n",
       "  </tbody>\n",
       "</table>\n",
       "</div>"
      ],
      "text/plain": [
       "                     par_name par_initial par_upper GWI_initial     GWI_end\n",
       "0               water_content         0.4      0.44  180.284974  184.603762\n",
       "1  dry_mass_for_manufacturing         0.3      0.33  180.284974  189.586967\n",
       "2    manufacturing_efficiency         0.9      0.99  180.284974   180.21596\n",
       "3         running_electricity         0.1      0.11  180.284974  180.303952\n",
       "4           chemical_constant         0.5      0.55  180.284974  183.773206"
      ]
     },
     "execution_count": 18,
     "metadata": {},
     "output_type": "execute_result"
    }
   ],
   "source": [
    "sr = pd.DataFrame([par_name, par_values, par_upper_values, score_values, OAT_values], \n",
    "                  index = ['par_name','par_initial', 'par_upper', 'GWI_initial', 'GWI_end']).T\n",
    "sr.head()"
   ]
  },
  {
   "cell_type": "code",
   "execution_count": 19,
   "id": "30832b49",
   "metadata": {},
   "outputs": [],
   "source": [
    "# calcualte sensitivity ratios\n",
    "sr['SR'] = ((sr['GWI_end']-sr['GWI_initial'])/sr['GWI_initial']) / ((sr['par_upper']-sr['par_initial'])/sr['par_initial']) \n",
    "\n",
    "sr['SR_abs'] = abs(sr['SR'])"
   ]
  },
  {
   "cell_type": "code",
   "execution_count": 20,
   "id": "ee078b4d",
   "metadata": {},
   "outputs": [
    {
     "data": {
      "text/html": [
       "<div>\n",
       "<style scoped>\n",
       "    .dataframe tbody tr th:only-of-type {\n",
       "        vertical-align: middle;\n",
       "    }\n",
       "\n",
       "    .dataframe tbody tr th {\n",
       "        vertical-align: top;\n",
       "    }\n",
       "\n",
       "    .dataframe thead th {\n",
       "        text-align: right;\n",
       "    }\n",
       "</style>\n",
       "<table border=\"1\" class=\"dataframe\">\n",
       "  <thead>\n",
       "    <tr style=\"text-align: right;\">\n",
       "      <th></th>\n",
       "      <th>par_name</th>\n",
       "      <th>par_initial</th>\n",
       "      <th>par_upper</th>\n",
       "      <th>GWI_initial</th>\n",
       "      <th>GWI_end</th>\n",
       "      <th>SR</th>\n",
       "      <th>SR_abs</th>\n",
       "    </tr>\n",
       "  </thead>\n",
       "  <tbody>\n",
       "    <tr>\n",
       "      <th>0</th>\n",
       "      <td>dry_mass_for_manufacturing</td>\n",
       "      <td>0.3</td>\n",
       "      <td>0.33</td>\n",
       "      <td>180.284974</td>\n",
       "      <td>189.586967</td>\n",
       "      <td>0.515961</td>\n",
       "      <td>0.515961</td>\n",
       "    </tr>\n",
       "    <tr>\n",
       "      <th>1</th>\n",
       "      <td>water_content</td>\n",
       "      <td>0.4</td>\n",
       "      <td>0.44</td>\n",
       "      <td>180.284974</td>\n",
       "      <td>184.603762</td>\n",
       "      <td>0.239553</td>\n",
       "      <td>0.239553</td>\n",
       "    </tr>\n",
       "    <tr>\n",
       "      <th>2</th>\n",
       "      <td>chemical_constant</td>\n",
       "      <td>0.5</td>\n",
       "      <td>0.55</td>\n",
       "      <td>180.284974</td>\n",
       "      <td>183.773206</td>\n",
       "      <td>0.193484</td>\n",
       "      <td>0.193484</td>\n",
       "    </tr>\n",
       "    <tr>\n",
       "      <th>3</th>\n",
       "      <td>reactor_efficiency</td>\n",
       "      <td>0.6</td>\n",
       "      <td>0.66</td>\n",
       "      <td>180.284974</td>\n",
       "      <td>177.113855</td>\n",
       "      <td>-0.175895</td>\n",
       "      <td>0.175895</td>\n",
       "    </tr>\n",
       "    <tr>\n",
       "      <th>4</th>\n",
       "      <td>manufacturing_efficiency</td>\n",
       "      <td>0.9</td>\n",
       "      <td>0.99</td>\n",
       "      <td>180.284974</td>\n",
       "      <td>180.21596</td>\n",
       "      <td>-0.003828</td>\n",
       "      <td>0.003828</td>\n",
       "    </tr>\n",
       "    <tr>\n",
       "      <th>5</th>\n",
       "      <td>running_electricity</td>\n",
       "      <td>0.1</td>\n",
       "      <td>0.11</td>\n",
       "      <td>180.284974</td>\n",
       "      <td>180.303952</td>\n",
       "      <td>0.001053</td>\n",
       "      <td>0.001053</td>\n",
       "    </tr>\n",
       "  </tbody>\n",
       "</table>\n",
       "</div>"
      ],
      "text/plain": [
       "                     par_name par_initial par_upper GWI_initial     GWI_end  \\\n",
       "0  dry_mass_for_manufacturing         0.3      0.33  180.284974  189.586967   \n",
       "1               water_content         0.4      0.44  180.284974  184.603762   \n",
       "2           chemical_constant         0.5      0.55  180.284974  183.773206   \n",
       "3          reactor_efficiency         0.6      0.66  180.284974  177.113855   \n",
       "4    manufacturing_efficiency         0.9      0.99  180.284974   180.21596   \n",
       "5         running_electricity         0.1      0.11  180.284974  180.303952   \n",
       "\n",
       "         SR    SR_abs  \n",
       "0  0.515961  0.515961  \n",
       "1  0.239553  0.239553  \n",
       "2  0.193484  0.193484  \n",
       "3 -0.175895  0.175895  \n",
       "4 -0.003828  0.003828  \n",
       "5  0.001053  0.001053  "
      ]
     },
     "execution_count": 20,
     "metadata": {},
     "output_type": "execute_result"
    }
   ],
   "source": [
    "sr_sorted = sr.sort_values('SR_abs', ascending = False, ignore_index = True).copy() # important to re-index...\n",
    "sr_sorted"
   ]
  },
  {
   "cell_type": "markdown",
   "id": "46d8e57a",
   "metadata": {},
   "source": [
    "The most sensitive parameter is the dry_mass_for_manufacturing, this represents the kg of drymass that must come from growth activity in order to obtain 1kg of product from the manufacturing activity. Since this is the most sensitive parameter we know that by correctly measuring this ratio (dry mass in : product out) will reduce uncertainty the most."
   ]
  },
  {
   "cell_type": "markdown",
   "id": "9ed14501",
   "metadata": {},
   "source": [
    "## GSA Analysis"
   ]
  },
  {
   "cell_type": "markdown",
   "id": "671b56af",
   "metadata": {},
   "source": [
    "To perform Global Sensitivity Analysis we first select parameters and a series of values to test for each. "
   ]
  },
  {
   "cell_type": "code",
   "execution_count": 21,
   "id": "9adff24c",
   "metadata": {},
   "outputs": [
    {
     "name": "stdout",
     "output_type": "stream",
     "text": [
      "parameter 1: water_content 0.4\n",
      "parameter 2: dry_mass_for_manufacturing 0.3\n",
      "parameter 3: manufacturing_efficiency 0.9\n",
      "parameter 4: running_electricity 0.1\n",
      "parameter 5: chemical_constant 0.5\n",
      "parameter 6: reactor_efficiency 0.6\n"
     ]
    }
   ],
   "source": [
    "# save all parameters in a list\n",
    "parameter_list = []\n",
    "for i, a in enumerate(ActivityParameter):\n",
    "    print(f'parameter {i+1}:', a.name, a.amount)\n",
    "    parameter_list.append(a)"
   ]
  },
  {
   "cell_type": "code",
   "execution_count": 22,
   "id": "4bb27d96",
   "metadata": {},
   "outputs": [],
   "source": [
    "# Can be done in many ways, here very basic using lists.\n",
    "par1_values = [0.36, 0.38, 0.4, 0.42, 0.44] # water_content\n",
    "par2_values = [0.27, 0.28, 0.3, 0.32, 0.33] # dry_mass_for_manufacturing\n",
    "par3_values = [0.81, 0.85, 0.9, 0.95, 0.99]  # manufacturing_efficiency\n",
    "par4_values = [0.09, 0.095, 0.1, 0.11, 0.115] # running_electricity\n",
    "par5_values = [0.45, 0.47, 0.5, 0.53, 0.55]  # chemical_constant\n",
    "par6_values = [0.54, 0.57, 0.6, 0.63, 0.66] # reactor_efficiency"
   ]
  },
  {
   "cell_type": "code",
   "execution_count": 23,
   "id": "f292b9a0",
   "metadata": {},
   "outputs": [],
   "source": [
    "n_iter = 5\n",
    "param_samples = [[parameter_list[0], par1_values],\n",
    "                 [parameter_list[1], par2_values],\n",
    "                 [parameter_list[2], par3_values],\n",
    "                 [parameter_list[3], par4_values],\n",
    "                 [parameter_list[4], par5_values],\n",
    "                 [parameter_list[5], par6_values]]"
   ]
  },
  {
   "cell_type": "markdown",
   "id": "f8b9dc2a",
   "metadata": {},
   "source": [
    "We can now iterate through and change parameter values, recalculate LCA results and calculate correlation between model input values and output values."
   ]
  },
  {
   "cell_type": "code",
   "execution_count": 24,
   "id": "c7faa3b1",
   "metadata": {},
   "outputs": [
    {
     "name": "stdout",
     "output_type": "stream",
     "text": [
      "initial value 180.28497364203196\n",
      "end value 168.1414736176963\n",
      "---\n",
      "initial value 180.28497364203196\n",
      "end value 172.10153405840256\n",
      "---\n",
      "initial value 180.28497364203196\n",
      "end value 180.28497364203196\n",
      "---\n",
      "initial value 180.28497364203196\n",
      "end value 189.0451399985393\n",
      "---\n",
      "initial value 180.28497364203196\n",
      "end value 194.52964170579463\n",
      "---\n"
     ]
    }
   ],
   "source": [
    "mymethod = ('ecoinvent-3.11', 'IPCC 2021', 'climate change: fossil', 'global warming potential (GWP100)')\n",
    "myact = bd.Database('ALIGNED-biob-prod-dummy').get('f9eabf64-b899-40c0-9f9f-2009dbb0a0b2') # Biobased-product-use\n",
    "functional_unit = {myact: 1}\n",
    "LCA = bc.LCA(functional_unit, mymethod)\n",
    "\n",
    "GSA_value_results = [] # to store output values\n",
    "\n",
    "for i in range(0,n_iter): \n",
    "    \n",
    "    # calculate inital LCA value\n",
    "    LCA = bc.LCA(functional_unit, mymethod)\n",
    "    LCA.lci()\n",
    "    LCA.lcia()\n",
    "    print(\"initial value\", LCA.score) \n",
    "    \n",
    "    original = [] # to store the original parameter values\n",
    "\n",
    "    # change parameter values\n",
    "    for s in param_samples:\n",
    "        p = s[0]\n",
    "        o = p.amount\n",
    "        original.append(p.amount)\n",
    "        p.amount = s[1][i]\n",
    "        p.save()\n",
    "    \n",
    "    p.recalculate_exchanges(p.group) # to recalculate flow amounts based on new parameter values\n",
    "\n",
    "    # recalculate LCA output\n",
    "    LCA = bc.LCA(functional_unit, mymethod)\n",
    "    LCA.lci()\n",
    "    LCA.lcia()\n",
    "    GSA_value_results.append(LCA.score)\n",
    "    print('end value', LCA.score)\n",
    "    print(\"---\")\n",
    "    \n",
    "\n",
    "    # reset parameter values to original amounts\n",
    "    for i, s in enumerate(param_samples):\n",
    "        update_parameter(s[0], original[i])"
   ]
  },
  {
   "cell_type": "code",
   "execution_count": 25,
   "id": "5b19735a",
   "metadata": {},
   "outputs": [
    {
     "data": {
      "text/html": [
       "<div>\n",
       "<style scoped>\n",
       "    .dataframe tbody tr th:only-of-type {\n",
       "        vertical-align: middle;\n",
       "    }\n",
       "\n",
       "    .dataframe tbody tr th {\n",
       "        vertical-align: top;\n",
       "    }\n",
       "\n",
       "    .dataframe thead th {\n",
       "        text-align: right;\n",
       "    }\n",
       "</style>\n",
       "<table border=\"1\" class=\"dataframe\">\n",
       "  <thead>\n",
       "    <tr style=\"text-align: right;\">\n",
       "      <th></th>\n",
       "      <th>water_content</th>\n",
       "      <th>dry_mass_for_manufacturing</th>\n",
       "      <th>manufacturing_efficiency</th>\n",
       "      <th>running_electricity</th>\n",
       "      <th>chemical_constant</th>\n",
       "      <th>reactor_efficiency</th>\n",
       "      <th>GWI</th>\n",
       "    </tr>\n",
       "  </thead>\n",
       "  <tbody>\n",
       "    <tr>\n",
       "      <th>water_content</th>\n",
       "      <td>1.000000</td>\n",
       "      <td>0.992278</td>\n",
       "      <td>0.999056</td>\n",
       "      <td>0.991241</td>\n",
       "      <td>0.997054</td>\n",
       "      <td>1.000000</td>\n",
       "      <td>0.993317</td>\n",
       "    </tr>\n",
       "    <tr>\n",
       "      <th>dry_mass_for_manufacturing</th>\n",
       "      <td>0.992278</td>\n",
       "      <td>1.000000</td>\n",
       "      <td>0.996729</td>\n",
       "      <td>0.993044</td>\n",
       "      <td>0.998868</td>\n",
       "      <td>0.992278</td>\n",
       "      <td>0.998898</td>\n",
       "    </tr>\n",
       "    <tr>\n",
       "      <th>manufacturing_efficiency</th>\n",
       "      <td>0.999056</td>\n",
       "      <td>0.996729</td>\n",
       "      <td>1.000000</td>\n",
       "      <td>0.993617</td>\n",
       "      <td>0.999445</td>\n",
       "      <td>0.999056</td>\n",
       "      <td>0.997020</td>\n",
       "    </tr>\n",
       "    <tr>\n",
       "      <th>running_electricity</th>\n",
       "      <td>0.991241</td>\n",
       "      <td>0.993044</td>\n",
       "      <td>0.993617</td>\n",
       "      <td>1.000000</td>\n",
       "      <td>0.994169</td>\n",
       "      <td>0.991241</td>\n",
       "      <td>0.995672</td>\n",
       "    </tr>\n",
       "    <tr>\n",
       "      <th>chemical_constant</th>\n",
       "      <td>0.997054</td>\n",
       "      <td>0.998868</td>\n",
       "      <td>0.999445</td>\n",
       "      <td>0.994169</td>\n",
       "      <td>1.000000</td>\n",
       "      <td>0.997054</td>\n",
       "      <td>0.998585</td>\n",
       "    </tr>\n",
       "    <tr>\n",
       "      <th>reactor_efficiency</th>\n",
       "      <td>1.000000</td>\n",
       "      <td>0.992278</td>\n",
       "      <td>0.999056</td>\n",
       "      <td>0.991241</td>\n",
       "      <td>0.997054</td>\n",
       "      <td>1.000000</td>\n",
       "      <td>0.993317</td>\n",
       "    </tr>\n",
       "    <tr>\n",
       "      <th>GWI</th>\n",
       "      <td>0.993317</td>\n",
       "      <td>0.998898</td>\n",
       "      <td>0.997020</td>\n",
       "      <td>0.995672</td>\n",
       "      <td>0.998585</td>\n",
       "      <td>0.993317</td>\n",
       "      <td>1.000000</td>\n",
       "    </tr>\n",
       "  </tbody>\n",
       "</table>\n",
       "</div>"
      ],
      "text/plain": [
       "                            water_content  dry_mass_for_manufacturing  \\\n",
       "water_content                    1.000000                    0.992278   \n",
       "dry_mass_for_manufacturing       0.992278                    1.000000   \n",
       "manufacturing_efficiency         0.999056                    0.996729   \n",
       "running_electricity              0.991241                    0.993044   \n",
       "chemical_constant                0.997054                    0.998868   \n",
       "reactor_efficiency               1.000000                    0.992278   \n",
       "GWI                              0.993317                    0.998898   \n",
       "\n",
       "                            manufacturing_efficiency  running_electricity  \\\n",
       "water_content                               0.999056             0.991241   \n",
       "dry_mass_for_manufacturing                  0.996729             0.993044   \n",
       "manufacturing_efficiency                    1.000000             0.993617   \n",
       "running_electricity                         0.993617             1.000000   \n",
       "chemical_constant                           0.999445             0.994169   \n",
       "reactor_efficiency                          0.999056             0.991241   \n",
       "GWI                                         0.997020             0.995672   \n",
       "\n",
       "                            chemical_constant  reactor_efficiency       GWI  \n",
       "water_content                        0.997054            1.000000  0.993317  \n",
       "dry_mass_for_manufacturing           0.998868            0.992278  0.998898  \n",
       "manufacturing_efficiency             0.999445            0.999056  0.997020  \n",
       "running_electricity                  0.994169            0.991241  0.995672  \n",
       "chemical_constant                    1.000000            0.997054  0.998585  \n",
       "reactor_efficiency                   0.997054            1.000000  0.993317  \n",
       "GWI                                  0.998585            0.993317  1.000000  "
      ]
     },
     "execution_count": 25,
     "metadata": {},
     "output_type": "execute_result"
    }
   ],
   "source": [
    "# calcualte correlation\n",
    "corr_data = pd.DataFrame([i[1] for i in param_samples], index = [p.name for p in parameter_list]).T\n",
    "corr_data['GWI'] = GSA_value_results\n",
    "corr_data.corr()"
   ]
  },
  {
   "cell_type": "markdown",
   "id": "0b6f829a",
   "metadata": {},
   "source": [
    "## Monte Carlo"
   ]
  },
  {
   "cell_type": "markdown",
   "id": "a9c27942",
   "metadata": {},
   "source": [
    "This Monte Carlo simulation will sample both the uncertainty of the parameters, to recalculate exchange values as well as background uncertainties and uncertainties of other foreground non-parametrized flows."
   ]
  },
  {
   "cell_type": "code",
   "execution_count": 26,
   "id": "b161489d",
   "metadata": {},
   "outputs": [],
   "source": [
    "# specific packages for MC\n",
    "from stats_arrays import MCRandomNumberGenerator, UncertaintyBase"
   ]
  },
  {
   "cell_type": "code",
   "execution_count": 27,
   "id": "ff9f7a54",
   "metadata": {},
   "outputs": [],
   "source": [
    "# function to sample parameters\n",
    "def sample_uncertainty(parameter):\n",
    "    ''' \n",
    "    This function allows to generate a random value based on the uncertainty of the parameter\n",
    "\n",
    "    Inputs:\n",
    "    - parameter: the Activity parameter object to update\n",
    "    \n",
    "    Returns:\n",
    "    - a random sample from the uncertainty distribution\n",
    "    '''\n",
    "\n",
    "    param = parameter.data\n",
    "\n",
    "    loc = param.get(\"loc\", np.NaN)\n",
    "    scale = param.get(\"scale\", np.NaN)\n",
    "    shape = param.get(\"shape\", np.NaN)\n",
    "    minimum = param.get(\"minimum\", np.NaN)\n",
    "    maximum = param.get(\"maximum\", np.NaN)\n",
    "    uncertainty_type = param.get(\"uncertainty type\", np.NaN)\n",
    "\n",
    "    params = UncertaintyBase.from_dicts(\n",
    "    {'loc':loc, 'scale':scale, 'shape':shape, 'minimum':minimum,\n",
    "      'maximum':maximum, 'uncertainty_type': uncertainty_type},\n",
    "    )\n",
    "    mcrng = MCRandomNumberGenerator(params)\n",
    "    simulations = zip(range(1), mcrng)\n",
    "    for i in simulations:\n",
    "        sample = (i[1])[0]\n",
    "\n",
    "    return sample"
   ]
  },
  {
   "cell_type": "code",
   "execution_count": 28,
   "id": "368c7147",
   "metadata": {},
   "outputs": [],
   "source": [
    "mymethod = ('ecoinvent-3.11', 'IPCC 2021', 'climate change: fossil', 'global warming potential (GWP100)')\n",
    "myact = bd.Database('ALIGNED-biob-prod-dummy').get('f9eabf64-b899-40c0-9f9f-2009dbb0a0b2') # Biobased-product-use\n",
    "functional_unit = {myact: 1}\n",
    "\n",
    "mc_results = [] # to store results of each iteration\n",
    "\n",
    "iterations = 100 # number of iterations\n",
    "\n",
    "for j in range(iterations):\n",
    "    \n",
    "    original = [] # to store all the original values of parameters\n",
    "\n",
    "    # change all parameters by sampling their uncertainty \n",
    "    for p in ActivityParameter:\n",
    "        original.append(p.amount)\n",
    "        random_value = sample_uncertainty(p)\n",
    "        update_parameter(p, random_value) \n",
    "\n",
    "    # at this point all the exchanges have been changed \n",
    "\n",
    "    # now because parametrized exchanges do not have uncertainties, this line will only sample the distribution of the background and unparametrized foreground flows\n",
    "    mc = bc.LCA(demand=functional_unit, method=mymethod, use_distributions=True) \n",
    "    ## NOTE: use distributions does not consider parameters which is why it is necessary to perform the previous loop\n",
    "    mc.lci()\n",
    "    mc.lcia()\n",
    "\n",
    "    mc_results.append(mc.score)\n",
    "\n",
    "    # reset parameters to original values\n",
    "    for i, p in enumerate(ActivityParameter):\n",
    "        update_parameter(p, original[i])"
   ]
  },
  {
   "cell_type": "markdown",
   "id": "a0779d7a",
   "metadata": {},
   "source": [
    "Some simple plotting to observe results"
   ]
  },
  {
   "cell_type": "code",
   "execution_count": 29,
   "id": "f067497f",
   "metadata": {},
   "outputs": [
    {
     "data": {
      "text/html": [
       "<div>\n",
       "<style scoped>\n",
       "    .dataframe tbody tr th:only-of-type {\n",
       "        vertical-align: middle;\n",
       "    }\n",
       "\n",
       "    .dataframe tbody tr th {\n",
       "        vertical-align: top;\n",
       "    }\n",
       "\n",
       "    .dataframe thead th {\n",
       "        text-align: right;\n",
       "    }\n",
       "</style>\n",
       "<table border=\"1\" class=\"dataframe\">\n",
       "  <thead>\n",
       "    <tr style=\"text-align: right;\">\n",
       "      <th></th>\n",
       "      <th>0</th>\n",
       "    </tr>\n",
       "  </thead>\n",
       "  <tbody>\n",
       "    <tr>\n",
       "      <th>count</th>\n",
       "      <td>100.000000</td>\n",
       "    </tr>\n",
       "    <tr>\n",
       "      <th>mean</th>\n",
       "      <td>233.088443</td>\n",
       "    </tr>\n",
       "    <tr>\n",
       "      <th>std</th>\n",
       "      <td>89.727749</td>\n",
       "    </tr>\n",
       "    <tr>\n",
       "      <th>min</th>\n",
       "      <td>113.547768</td>\n",
       "    </tr>\n",
       "    <tr>\n",
       "      <th>25%</th>\n",
       "      <td>173.758545</td>\n",
       "    </tr>\n",
       "    <tr>\n",
       "      <th>50%</th>\n",
       "      <td>213.530639</td>\n",
       "    </tr>\n",
       "    <tr>\n",
       "      <th>75%</th>\n",
       "      <td>271.283340</td>\n",
       "    </tr>\n",
       "    <tr>\n",
       "      <th>max</th>\n",
       "      <td>658.157744</td>\n",
       "    </tr>\n",
       "  </tbody>\n",
       "</table>\n",
       "</div>"
      ],
      "text/plain": [
       "                0\n",
       "count  100.000000\n",
       "mean   233.088443\n",
       "std     89.727749\n",
       "min    113.547768\n",
       "25%    173.758545\n",
       "50%    213.530639\n",
       "75%    271.283340\n",
       "max    658.157744"
      ]
     },
     "execution_count": 29,
     "metadata": {},
     "output_type": "execute_result"
    },
    {
     "data": {
      "image/png": "[encoded data removed]",
      "text/plain": [
       "<Figure size 640x480 with 1 Axes>"
      ]
     },
     "metadata": {},
     "output_type": "display_data"
    }
   ],
   "source": [
    "# plot MC results\n",
    "plt.hist(mc_results, density=True)\n",
    "plt.ylabel(\"Probability\")\n",
    "plt.xlabel(bd.methods[mymethod][\"unit\"])\n",
    "pd.DataFrame(mc_results).describe() "
   ]
  }
 ],
 "metadata": {
  "kernelspec": {
   "display_name": "brightway",
   "language": "python",
   "name": "python3"
  },
  "language_info": {
   "codemirror_mode": {
    "name": "ipython",
    "version": 3
   },
   "file_extension": ".py",
   "mimetype": "text/x-python",
   "name": "python",
   "nbconvert_exporter": "python",
   "pygments_lexer": "ipython3",
   "version": "3.11.13"
  }
 },
 "nbformat": 4,
 "nbformat_minor": 5
}
