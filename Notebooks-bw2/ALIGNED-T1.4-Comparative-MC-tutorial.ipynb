{
 "cells": [
  {
   "cell_type": "markdown",
   "metadata": {},
   "source": [
    "# ALIGNED project: Comparative Monte Carlo\n",
    "\n",
    "**Aligning Life Cycle Assessment methods and bio-based sectors for improved environmental performance**\n",
    "\n",
    "[http://www.alignedproject.eu/](http://www.alignedproject.eu/)\n",
    "\n",
    "_Horizon Europe grant agreement N° 101059430. Views and opinions expressed are however those of the author(s) only and do not necessarily reflect those of the European Union or the European Research Executive Agency._ \n",
    "\n",
    "\n",
    "## WP1 Shared modelling framework and learnings\n",
    "### Task 1.4 Framework for interpreting uncertainty\n",
    "\n",
    "#### Deliverable 1.2 Description of scientific methods\n",
    "\n",
    "#### Tutorial for performing a comparative Monte Carlo uncertainty analysis\n",
    "\n",
    "#### Massimo Pizzol, Aalborg University (AAU), 2024\n",
    "\n",
    "This notebook shows how to perform an uncertainty analysis on an example product system of a biobased product. "
   ]
  },
  {
   "cell_type": "markdown",
   "metadata": {},
   "source": [
    "In particular here a comparative Monte Carlo is performed, the type of simulation to be used in comparative LCAs, i.e. in analyses where different alternatives to provide the same Functional Unit are compared. In this comparative case it is important to randomly sample a common technology matrix **A** for all alternatives at each iteration, instead of having a different technology matrix per each alternative at each iteration. This allows for a smaller variance and shorter computational times. Moreover, this allows not only to quantify the uncertainty of each alternative, but also to optimally perform the  statistical testing of the results with paired tests, to see if the two alternatives are significantly different from each other or not. \n",
    "\n",
    "A recommend supporting reading is Henriksson et al. (2015), probably the best example of an LCA with comparative Monte Carlo simulation followed by statistical testing for significant differences between alternatives. An application of this approach is also provided in Pizzol (2019).\n",
    "\n",
    "_Henriksson, P. J. G., Rico, A., Zhang, W., Ahmad-Al-Nahid, S., Newton, R., Phan, L. T., … Guinée, J. B. (2015). Comparison of Asian Aquaculture Products by Use of Statistically Supported Life Cycle Assessment. Environmental Science and Technology, 49(24), 14176-14183._ [https://doi.org/10.1021/acs.est.5b04634](https://doi.org/10.1021/acs.est.5b04634)\n",
    "\n",
    "_Pizzol, M., 2019. Deterministic and stochastic carbon footprint of intermodal ferry and truck freight transport across Scandinavian routes. Journal of Cleaner Production 224, 626–636._ https://doi.org/10.1016/j.jclepro.2019.03.270\n"
   ]
  },
  {
   "cell_type": "code",
   "execution_count": 1,
   "metadata": {},
   "outputs": [],
   "source": [
    "# import packages\n",
    "import brightway2 as bw\n",
    "import pandas as pd\n",
    "import numpy as np\n",
    "from scipy import stats\n",
    "from matplotlib import pyplot as plt\n",
    "from lci_to_bw2 import * # import all the functions of this module"
   ]
  },
  {
   "cell_type": "code",
   "execution_count": 2,
   "metadata": {},
   "outputs": [],
   "source": [
    "# open a project with ecoinvent v.3.9.1 consequential system model\n",
    "bw.projects.set_current('advlca23')"
   ]
  },
  {
   "cell_type": "markdown",
   "metadata": {},
   "source": [
    "We start by importing data about a fictional (\"dummy\") product system for a biobased product."
   ]
  },
  {
   "cell_type": "code",
   "execution_count": 3,
   "metadata": {},
   "outputs": [
    {
     "name": "stderr",
     "output_type": "stream",
     "text": [
      "Writing activities to SQLite3 database:\n",
      "0% [#####] 100% | ETA: 00:00:00\n",
      "Total time elapsed: 00:00:00\n"
     ]
    },
    {
     "name": "stdout",
     "output_type": "stream",
     "text": [
      "Title: Writing activities to SQLite3 database:\n",
      "  Started: 03/14/2024 20:33:33\n",
      "  Finished: 03/14/2024 20:33:33\n",
      "  Total time elapsed: 00:00:00\n",
      "  CPU %: 40.50\n",
      "  Memory %: 1.35\n"
     ]
    }
   ],
   "source": [
    "# Import the dummy product system\n",
    "\n",
    "# import data from csv\n",
    "mydata = pd.read_csv('ALIGNED-LCI-biobased-product-dummy.csv', header = 0, sep = \",\") # using csv file avoids encoding problem\n",
    "mydata.head()\n",
    "\n",
    "# keep only the columns not needed\n",
    "mydb = mydata[['Activity database','Activity code','Activity name','Activity unit','Activity type',\n",
    "               'Exchange database','Exchange input','Exchange amount','Exchange unit','Exchange type',\n",
    "               'Exchange uncertainty type','Exchange loc','Exchange scale','Exchange negative', \n",
    "               'Simapro name',\t'Simapro unit', 'Simapro type']].copy()\n",
    "\n",
    "mydb = mydata.copy()\n",
    "\n",
    "mydb['Exchange uncertainty type'] = mydb['Exchange uncertainty type'].fillna(0).astype(int) # uncertainty as integers\n",
    "# Note: to avoid having both nan and values in the uncertainty column I use zero as default\n",
    "\n",
    "# Create dictionary in bw format and write database to disk. \n",
    "# Shut down all other notebooks using the same project before doing this\n",
    "bw2_db = lci_to_bw2(mydb) # a function from the lci_to_bw2 module\n",
    "\n",
    "# write database\n",
    "bw.Database('ALIGNED-biob-prod-dummy').write(bw2_db)"
   ]
  },
  {
   "cell_type": "markdown",
   "metadata": {},
   "source": [
    "The product system includes different activities such as the production, use, and end of life of the biobased product."
   ]
  },
  {
   "cell_type": "code",
   "execution_count": 4,
   "metadata": {},
   "outputs": [
    {
     "name": "stdout",
     "output_type": "stream",
     "text": [
      "'Biobased-product-use' (year, None, None) f9eabf64-b899-40c0-9f9f-2009dbb0a0b2\n",
      "'Biomass-growth' (kilogram, None, None) a7d34649-9c10-4423-bac3-ecab9b43b20c\n",
      "'Biomass-processing' (kilogram, None, None) 403a5c32-c769-46fc-8b9a-74b8eb3c79d1\n",
      "'Biobased-product-manufacturing' (kilogram, None, None) a37d149a-6508-4563-8af6-e5a39b4176df\n",
      "'Biobased-product-eol' (kilogram, None, None) c8301e73-d521-4a89-998b-30b7e7751011\n"
     ]
    }
   ],
   "source": [
    "# check what foreground activities are included\n",
    "for act in bw.Database('ALIGNED-biob-prod-dummy'):\n",
    "    print(act, act['code'])"
   ]
  },
  {
   "cell_type": "markdown",
   "metadata": {},
   "source": [
    "We calculate a static climate impact score for the fictional biobased product, to be used for reference later on."
   ]
  },
  {
   "cell_type": "code",
   "execution_count": 5,
   "metadata": {},
   "outputs": [
    {
     "name": "stdout",
     "output_type": "stream",
     "text": [
      "121.67148851736351\n"
     ]
    }
   ],
   "source": [
    "# calculation of static LCA score\n",
    "mymethod = ('IPCC 2013', 'climate change', 'global warming potential (GWP100)')\n",
    "use = bw.Database('ALIGNED-biob-prod-dummy').get('f9eabf64-b899-40c0-9f9f-2009dbb0a0b2') # Biobased-product-use\n",
    "functional_unit = {use: 1}\n",
    "LCA = bw.LCA(functional_unit, mymethod)\n",
    "LCA.lci()\n",
    "LCA.lcia()\n",
    "print(LCA.score)"
   ]
  },
  {
   "cell_type": "markdown",
   "metadata": {},
   "source": [
    "### A simple Stochastic simulation"
   ]
  },
  {
   "cell_type": "markdown",
   "metadata": {},
   "source": [
    "We perform a simulation and calculate 100 results for the same functional unit using stochastic error propagation starting from the uncertainty in the foreground and background input data."
   ]
  },
  {
   "cell_type": "code",
   "execution_count": 6,
   "metadata": {},
   "outputs": [],
   "source": [
    "mc = bw.MonteCarloLCA(functional_unit, mymethod)\n",
    "mc_results = [next(mc) for x in range(100)] # will take a minute, we are randomly sampling ecoinvent 100 times"
   ]
  },
  {
   "cell_type": "markdown",
   "metadata": {},
   "source": [
    "We then calculate descriptive statistics for the resulting distribution."
   ]
  },
  {
   "cell_type": "code",
   "execution_count": 7,
   "metadata": {},
   "outputs": [
    {
     "data": {
      "text/html": [
       "<div>\n",
       "<style scoped>\n",
       "    .dataframe tbody tr th:only-of-type {\n",
       "        vertical-align: middle;\n",
       "    }\n",
       "\n",
       "    .dataframe tbody tr th {\n",
       "        vertical-align: top;\n",
       "    }\n",
       "\n",
       "    .dataframe thead th {\n",
       "        text-align: right;\n",
       "    }\n",
       "</style>\n",
       "<table border=\"1\" class=\"dataframe\">\n",
       "  <thead>\n",
       "    <tr style=\"text-align: right;\">\n",
       "      <th></th>\n",
       "      <th>0</th>\n",
       "    </tr>\n",
       "  </thead>\n",
       "  <tbody>\n",
       "    <tr>\n",
       "      <th>count</th>\n",
       "      <td>100.000000</td>\n",
       "    </tr>\n",
       "    <tr>\n",
       "      <th>mean</th>\n",
       "      <td>154.712661</td>\n",
       "    </tr>\n",
       "    <tr>\n",
       "      <th>std</th>\n",
       "      <td>53.100758</td>\n",
       "    </tr>\n",
       "    <tr>\n",
       "      <th>min</th>\n",
       "      <td>49.820552</td>\n",
       "    </tr>\n",
       "    <tr>\n",
       "      <th>25%</th>\n",
       "      <td>119.672906</td>\n",
       "    </tr>\n",
       "    <tr>\n",
       "      <th>50%</th>\n",
       "      <td>145.139356</td>\n",
       "    </tr>\n",
       "    <tr>\n",
       "      <th>75%</th>\n",
       "      <td>177.796679</td>\n",
       "    </tr>\n",
       "    <tr>\n",
       "      <th>max</th>\n",
       "      <td>371.219754</td>\n",
       "    </tr>\n",
       "  </tbody>\n",
       "</table>\n",
       "</div>"
      ],
      "text/plain": [
       "                0\n",
       "count  100.000000\n",
       "mean   154.712661\n",
       "std     53.100758\n",
       "min     49.820552\n",
       "25%    119.672906\n",
       "50%    145.139356\n",
       "75%    177.796679\n",
       "max    371.219754"
      ]
     },
     "execution_count": 7,
     "metadata": {},
     "output_type": "execute_result"
    },
    {
     "data": {
      "image/png": "[encoded data removed]",
      "text/plain": [
       "<Figure size 640x480 with 1 Axes>"
      ]
     },
     "metadata": {},
     "output_type": "display_data"
    }
   ],
   "source": [
    "# plot MC results\n",
    "plt.hist(mc_results, density=True)\n",
    "plt.ylabel(\"Probability\")\n",
    "plt.xlabel(bw.methods[mymethod][\"unit\"])\n",
    "pd.DataFrame(mc_results).describe() "
   ]
  },
  {
   "cell_type": "markdown",
   "metadata": {},
   "source": [
    "### A comparative stochastic simulation"
   ]
  },
  {
   "cell_type": "markdown",
   "metadata": {},
   "source": [
    "Now we perform stochastic simulation where we compare the initial product with a fictional alternative. Scores are calculated in a paired fashion so first (i) a new technology matrix is sampled, then (ii) results are calculated for each product using this matrix, and only then the procedure is iterated. In this way we ensure comparisons made on the same conditions at each iteration."
   ]
  },
  {
   "cell_type": "markdown",
   "metadata": {},
   "source": [
    "We first need to define the alternative product, this is a product where a larger amount of product items is needed in the use stage. The uncertainty estimates for this alternative products are also different."
   ]
  },
  {
   "cell_type": "code",
   "execution_count": 9,
   "metadata": {},
   "outputs": [],
   "source": [
    "if 'ALIGNED-biob-prod-dummy-alt' in bw.databases:\n",
    "    del bw.databases['ALIGNED-biob-prod-dummy-alt']"
   ]
  },
  {
   "cell_type": "code",
   "execution_count": 10,
   "metadata": {},
   "outputs": [
    {
     "name": "stderr",
     "output_type": "stream",
     "text": [
      "Writing activities to SQLite3 database:\n",
      "0% [#####] 100% | ETA: 00:00:00\n",
      "Total time elapsed: 00:00:00\n"
     ]
    },
    {
     "name": "stdout",
     "output_type": "stream",
     "text": [
      "Title: Writing activities to SQLite3 database:\n",
      "  Started: 03/14/2024 20:36:15\n",
      "  Finished: 03/14/2024 20:36:15\n",
      "  Total time elapsed: 00:00:00\n",
      "  CPU %: 22.50\n",
      "  Memory %: 2.66\n"
     ]
    }
   ],
   "source": [
    "# create a copy of the foreground database\n",
    "db_alt = bw.Database('ALIGNED-biob-prod-dummy').copy('ALIGNED-biob-prod-dummy-alt')"
   ]
  },
  {
   "cell_type": "code",
   "execution_count": 11,
   "metadata": {},
   "outputs": [
    {
     "name": "stdout",
     "output_type": "stream",
     "text": [
      "original:  Exchange: 50.0 kilogram 'Biobased-product-manufacturing' (kilogram, None, None) to 'Biobased-product-use' (year, None, None)>\n",
      "alternative:  Exchange: 60 kilogram 'Biobased-product-manufacturing' (kilogram, None, None) to 'Biobased-product-use' (year, None, None)>\n"
     ]
    }
   ],
   "source": [
    "# Now I modified this database to show that more product is used in the use stage.\n",
    "use_alt = db_alt.get('f9eabf64-b899-40c0-9f9f-2009dbb0a0b2')\n",
    "exc_alt = list(use_alt.exchanges())[1] # select the second exchange in the activity, i.e. the input from manufacturing\n",
    "print('original: ', exc_alt) # checking the original\n",
    "\n",
    "exc_alt['amount'] = 60 # I am increasing the amount of product needed in manufacturing\n",
    "exc_alt['minimum'] = 60*0.8 # Some uncertainty, lower bound of uniform distribution\n",
    "exc_alt['maximum'] = 60*1.2 # Some uncertainty, upper bound of uniform distribution\n",
    "exc_alt.save() # important or the changes won't be maintained\n",
    "print('alternative: ', exc_alt) # checking the  alternative"
   ]
  },
  {
   "cell_type": "markdown",
   "metadata": {},
   "source": [
    "We can see that the uncertainty range is different for the two products."
   ]
  },
  {
   "cell_type": "code",
   "execution_count": 12,
   "metadata": {},
   "outputs": [
    {
     "name": "stdout",
     "output_type": "stream",
     "text": [
      "{'input': ('ALIGNED-biob-prod-dummy', 'a37d149a-6508-4563-8af6-e5a39b4176df'), 'amount': 50.0, 'unit': 'kilogram', 'type': 'technosphere', 'uncertainty type': 4, 'minimum': 37.5, 'maximum': 62.5, 'Notes': 'Input of manufacturing', 'Simapro name': 'Biobased-product-manufacturing', 'Simapro unit': 'kg', 'output': ('ALIGNED-biob-prod-dummy', 'f9eabf64-b899-40c0-9f9f-2009dbb0a0b2')} \n",
      "---\n",
      " {'input': ('ALIGNED-biob-prod-dummy-alt', 'a37d149a-6508-4563-8af6-e5a39b4176df'), 'amount': 60, 'unit': 'kilogram', 'type': 'technosphere', 'uncertainty type': 4, 'minimum': 48.0, 'maximum': 72.0, 'Notes': 'Input of manufacturing', 'Simapro name': 'Biobased-product-manufacturing', 'Simapro unit': 'kg', 'output': ('ALIGNED-biob-prod-dummy-alt', 'f9eabf64-b899-40c0-9f9f-2009dbb0a0b2')}\n"
     ]
    }
   ],
   "source": [
    "# check that both amount and uncertainty values are different\n",
    "print(list(use.exchanges())[1]._data, \"\\n---\\n\", list(use_alt.exchanges())[1]._data)"
   ]
  },
  {
   "cell_type": "markdown",
   "metadata": {},
   "source": [
    "And the static impact score is also different"
   ]
  },
  {
   "cell_type": "code",
   "execution_count": 13,
   "metadata": {},
   "outputs": [
    {
     "data": {
      "text/plain": [
       "135.798938697616"
      ]
     },
     "execution_count": 13,
     "metadata": {},
     "output_type": "execute_result"
    }
   ],
   "source": [
    "# check the static value is different\n",
    "lca = bw.LCA({use_alt: 1}, mymethod)\n",
    "lca.lci()\n",
    "lca.lcia()\n",
    "lca.score # higher impact as expected"
   ]
  },
  {
   "cell_type": "markdown",
   "metadata": {},
   "source": [
    "Now I merge based product and its alternative in the same technology matrix and proceed with the stochastic comparative anlysis"
   ]
  },
  {
   "cell_type": "code",
   "execution_count": 14,
   "metadata": {},
   "outputs": [
    {
     "name": "stderr",
     "output_type": "stream",
     "text": [
      "Writing activities to SQLite3 database:\n",
      "0% [#] 100% | ETA: 00:00:00\n",
      "Total time elapsed: 00:00:00\n"
     ]
    },
    {
     "name": "stdout",
     "output_type": "stream",
     "text": [
      "Title: Writing activities to SQLite3 database:\n",
      "  Started: 03/14/2024 20:36:41\n",
      "  Finished: 03/14/2024 20:36:41\n",
      "  Total time elapsed: 00:00:00\n",
      "  CPU %: 106.20\n",
      "  Memory %: 2.94\n"
     ]
    }
   ],
   "source": [
    "# Create a database with both activities to have a common technology matrix.\n",
    "\n",
    "cmc_db = bw.Database('cmc') # cmc = comparative Monte Carlo\n",
    "\n",
    "# A simplified db, one foreground activity: 'Electricity production,\n",
    "cmc_db.write({  \n",
    "    ('cmc', 'cmc-act'): {\n",
    "        'name': 'comparative monte carlo activity',\n",
    "        'unit': 'p',\n",
    "        'exchanges': [{\n",
    "            'input': ('ALIGNED-biob-prod-dummy', 'f9eabf64-b899-40c0-9f9f-2009dbb0a0b2'), # first alternative\n",
    "            'amount': 1,\n",
    "            'type': 'technosphere'},\n",
    "        {\n",
    "            'input': ('ALIGNED-biob-prod-dummy-alt', 'f9eabf64-b899-40c0-9f9f-2009dbb0a0b2'), # second alternative\n",
    "            'amount': 1,\n",
    "            'type': 'technosphere'},\n",
    "        {\n",
    "            'input': ('cmc', 'cmc-act'),\n",
    "            'amount': 1,\n",
    "            'type': 'production'}]}})\n",
    "\n",
    "# select the foreground activity and calculate result\n",
    "#lca = bw.LCA({cmc_db.get('cmc-act'): 1}, mymethod)\n",
    "#lca.lci()\n",
    "#lca.lcia()"
   ]
  },
  {
   "cell_type": "code",
   "execution_count": 15,
   "metadata": {},
   "outputs": [
    {
     "data": {
      "text/plain": [
       "424.94768383053196"
      ]
     },
     "execution_count": 15,
     "metadata": {},
     "output_type": "execute_result"
    }
   ],
   "source": [
    "# Initialize monte carlo simulation\n",
    "mc = bw.MonteCarloLCA({cmc_db.get('cmc-act'): 1}, mymethod) # We are calculating the impact of transport with the use first\n",
    "next(mc)"
   ]
  },
  {
   "cell_type": "markdown",
   "metadata": {},
   "source": [
    "#### (Technical note) \n",
    "\n",
    "The steps above were necessary as in this case as we start with importing a single product system. To analyise an alternative product we need first to create a copy of the existing database, modify it to add the alternative activity, and then obtain a common technology matrix. \n",
    "\n",
    "All this can be skipped if the alternatives to be compared are two distinct activities in the same foreground database and prepared originally in the data template and imported together."
   ]
  },
  {
   "cell_type": "markdown",
   "metadata": {},
   "source": [
    "#### Now finally comparative stochastic simulation"
   ]
  },
  {
   "cell_type": "code",
   "execution_count": 16,
   "metadata": {},
   "outputs": [],
   "source": [
    "# a list ot he alternative to be compared\n",
    "demands = [{('ALIGNED-biob-prod-dummy', 'f9eabf64-b899-40c0-9f9f-2009dbb0a0b2'):1},\n",
    "          {('ALIGNED-biob-prod-dummy-alt', 'f9eabf64-b899-40c0-9f9f-2009dbb0a0b2'):1}] # the alternative!"
   ]
  },
  {
   "cell_type": "code",
   "execution_count": 17,
   "metadata": {},
   "outputs": [
    {
     "name": "stdout",
     "output_type": "stream",
     "text": [
      "169.0173497706422\n",
      "255.9303340598896\n",
      "169.0173497706422\n"
     ]
    }
   ],
   "source": [
    "# look at this first\n",
    "mc.redo_lcia(demands[0]) # use\n",
    "print(mc.score)\n",
    "mc.redo_lcia(demands[1]) # alternative use. I am using the same technology matrix \"A\" as before to calcualte results\n",
    "print(mc.score)\n",
    "mc.redo_lcia(demands[0]) # use again. Same result. Note how \"redo.lcia\" allows doing dependent sampling\n",
    "print(mc.score)"
   ]
  },
  {
   "cell_type": "code",
   "execution_count": 18,
   "metadata": {},
   "outputs": [],
   "source": [
    "# Now for several iterations\n",
    "iterations = 100\n",
    "simulations = [] # empty list that will contain the restuls of all iterations, for all alternatives\n",
    "\n",
    "for _ in range(iterations):\n",
    "    #print(_)\n",
    "    next(mc)\n",
    "    mcresults = []    # empty list that will contain results for one iteration, for two alteratives\n",
    "    for i in demands:\n",
    "        mc.redo_lcia(i)\n",
    "        mcresults.append(mc.score)\n",
    "    simulations.append(mcresults) # appends one list to another\n"
   ]
  },
  {
   "cell_type": "markdown",
   "metadata": {},
   "source": [
    "What is obtained is two different distributions, one for the base product and one for the alternative. Each sample (iteration, or row in the table below) is paired."
   ]
  },
  {
   "cell_type": "code",
   "execution_count": 19,
   "metadata": {},
   "outputs": [
    {
     "data": {
      "text/html": [
       "<div>\n",
       "<style scoped>\n",
       "    .dataframe tbody tr th:only-of-type {\n",
       "        vertical-align: middle;\n",
       "    }\n",
       "\n",
       "    .dataframe tbody tr th {\n",
       "        vertical-align: top;\n",
       "    }\n",
       "\n",
       "    .dataframe thead th {\n",
       "        text-align: right;\n",
       "    }\n",
       "</style>\n",
       "<table border=\"1\" class=\"dataframe\">\n",
       "  <thead>\n",
       "    <tr style=\"text-align: right;\">\n",
       "      <th></th>\n",
       "      <th>use</th>\n",
       "      <th>use_alt</th>\n",
       "    </tr>\n",
       "  </thead>\n",
       "  <tbody>\n",
       "    <tr>\n",
       "      <th>0</th>\n",
       "      <td>141.678520</td>\n",
       "      <td>268.721972</td>\n",
       "    </tr>\n",
       "    <tr>\n",
       "      <th>1</th>\n",
       "      <td>97.829031</td>\n",
       "      <td>140.486623</td>\n",
       "    </tr>\n",
       "    <tr>\n",
       "      <th>2</th>\n",
       "      <td>78.832960</td>\n",
       "      <td>158.403273</td>\n",
       "    </tr>\n",
       "    <tr>\n",
       "      <th>3</th>\n",
       "      <td>100.999256</td>\n",
       "      <td>89.248981</td>\n",
       "    </tr>\n",
       "    <tr>\n",
       "      <th>4</th>\n",
       "      <td>90.557471</td>\n",
       "      <td>104.953418</td>\n",
       "    </tr>\n",
       "    <tr>\n",
       "      <th>...</th>\n",
       "      <td>...</td>\n",
       "      <td>...</td>\n",
       "    </tr>\n",
       "    <tr>\n",
       "      <th>95</th>\n",
       "      <td>109.358383</td>\n",
       "      <td>177.270515</td>\n",
       "    </tr>\n",
       "    <tr>\n",
       "      <th>96</th>\n",
       "      <td>150.502508</td>\n",
       "      <td>180.014783</td>\n",
       "    </tr>\n",
       "    <tr>\n",
       "      <th>97</th>\n",
       "      <td>328.422314</td>\n",
       "      <td>280.353572</td>\n",
       "    </tr>\n",
       "    <tr>\n",
       "      <th>98</th>\n",
       "      <td>167.139210</td>\n",
       "      <td>154.822247</td>\n",
       "    </tr>\n",
       "    <tr>\n",
       "      <th>99</th>\n",
       "      <td>160.611146</td>\n",
       "      <td>189.419131</td>\n",
       "    </tr>\n",
       "  </tbody>\n",
       "</table>\n",
       "<p>100 rows × 2 columns</p>\n",
       "</div>"
      ],
      "text/plain": [
       "           use     use_alt\n",
       "0   141.678520  268.721972\n",
       "1    97.829031  140.486623\n",
       "2    78.832960  158.403273\n",
       "3   100.999256   89.248981\n",
       "4    90.557471  104.953418\n",
       "..         ...         ...\n",
       "95  109.358383  177.270515\n",
       "96  150.502508  180.014783\n",
       "97  328.422314  280.353572\n",
       "98  167.139210  154.822247\n",
       "99  160.611146  189.419131\n",
       "\n",
       "[100 rows x 2 columns]"
      ]
     },
     "execution_count": 19,
     "metadata": {},
     "output_type": "execute_result"
    }
   ],
   "source": [
    "# let's give a look\n",
    "df = pd.DataFrame(simulations, columns = ['use','use_alt']) # df is for \"dataframe\"\n",
    "#df.to_csv('ComparativeMCsimulation.csv') # to save it\n",
    "df"
   ]
  },
  {
   "cell_type": "markdown",
   "metadata": {},
   "source": [
    "A summary of these distributions shows that the median (50% percentile) impact score of the alternative (_use-alt_) is higher than the one of the original activity (_use_).\n",
    "\n",
    "The summary also quantified the uncertainy as standard deviation (_sd_), which is large in this case (about half the value of the median)."
   ]
  },
  {
   "cell_type": "code",
   "execution_count": 20,
   "metadata": {},
   "outputs": [
    {
     "data": {
      "text/html": [
       "<div>\n",
       "<style scoped>\n",
       "    .dataframe tbody tr th:only-of-type {\n",
       "        vertical-align: middle;\n",
       "    }\n",
       "\n",
       "    .dataframe tbody tr th {\n",
       "        vertical-align: top;\n",
       "    }\n",
       "\n",
       "    .dataframe thead th {\n",
       "        text-align: right;\n",
       "    }\n",
       "</style>\n",
       "<table border=\"1\" class=\"dataframe\">\n",
       "  <thead>\n",
       "    <tr style=\"text-align: right;\">\n",
       "      <th></th>\n",
       "      <th>use</th>\n",
       "      <th>use_alt</th>\n",
       "    </tr>\n",
       "  </thead>\n",
       "  <tbody>\n",
       "    <tr>\n",
       "      <th>count</th>\n",
       "      <td>100.000000</td>\n",
       "      <td>100.000000</td>\n",
       "    </tr>\n",
       "    <tr>\n",
       "      <th>mean</th>\n",
       "      <td>151.671161</td>\n",
       "      <td>171.706618</td>\n",
       "    </tr>\n",
       "    <tr>\n",
       "      <th>std</th>\n",
       "      <td>61.587156</td>\n",
       "      <td>66.304910</td>\n",
       "    </tr>\n",
       "    <tr>\n",
       "      <th>min</th>\n",
       "      <td>66.681924</td>\n",
       "      <td>75.105630</td>\n",
       "    </tr>\n",
       "    <tr>\n",
       "      <th>25%</th>\n",
       "      <td>109.333769</td>\n",
       "      <td>119.021908</td>\n",
       "    </tr>\n",
       "    <tr>\n",
       "      <th>50%</th>\n",
       "      <td>138.413616</td>\n",
       "      <td>158.396103</td>\n",
       "    </tr>\n",
       "    <tr>\n",
       "      <th>75%</th>\n",
       "      <td>172.730066</td>\n",
       "      <td>211.832499</td>\n",
       "    </tr>\n",
       "    <tr>\n",
       "      <th>max</th>\n",
       "      <td>367.724436</td>\n",
       "      <td>404.780040</td>\n",
       "    </tr>\n",
       "  </tbody>\n",
       "</table>\n",
       "</div>"
      ],
      "text/plain": [
       "              use     use_alt\n",
       "count  100.000000  100.000000\n",
       "mean   151.671161  171.706618\n",
       "std     61.587156   66.304910\n",
       "min     66.681924   75.105630\n",
       "25%    109.333769  119.021908\n",
       "50%    138.413616  158.396103\n",
       "75%    172.730066  211.832499\n",
       "max    367.724436  404.780040"
      ]
     },
     "execution_count": 20,
     "metadata": {},
     "output_type": "execute_result"
    }
   ],
   "source": [
    "df.describe()"
   ]
  },
  {
   "cell_type": "markdown",
   "metadata": {},
   "source": [
    "This is also confirmed by a visual inspection. The distribution of the alternative (_use_alt_) is shifted upwards compared to the original (_use_). Also, there seems to be a linear relation between the two which confirms the paired sampling."
   ]
  },
  {
   "cell_type": "code",
   "execution_count": 21,
   "metadata": {},
   "outputs": [
    {
     "data": {
      "text/plain": [
       "<Axes: >"
      ]
     },
     "execution_count": 21,
     "metadata": {},
     "output_type": "execute_result"
    },
    {
     "data": {
      "image/png": "[encoded data removed]",
      "text/plain": [
       "<Figure size 640x480 with 1 Axes>"
      ]
     },
     "metadata": {},
     "output_type": "display_data"
    }
   ],
   "source": [
    "df.plot(kind = 'box')\n",
    "#df.T.melt()"
   ]
  },
  {
   "cell_type": "markdown",
   "metadata": {},
   "source": [
    "Plotting the results shows a hint of a trend, as expectable as results are paired so each point \"depends\" on the same background conditions."
   ]
  },
  {
   "cell_type": "code",
   "execution_count": 22,
   "metadata": {},
   "outputs": [
    {
     "data": {
      "text/plain": [
       "Text(0, 0.5, 'use_alt - kg CO2-eq')"
      ]
     },
     "execution_count": 22,
     "metadata": {},
     "output_type": "execute_result"
    },
    {
     "data": {
      "image/png": "[encoded data removed]",
      "text/plain": [
       "<Figure size 640x480 with 1 Axes>"
      ]
     },
     "metadata": {},
     "output_type": "display_data"
    }
   ],
   "source": [
    "# plot one against the other to see if there is any trend\n",
    "plt.plot(df['use'], df['use_alt'], 'o')\n",
    "plt.xlabel('use - kg CO2-eq')\n",
    "plt.ylabel('use_alt - kg CO2-eq')"
   ]
  },
  {
   "cell_type": "markdown",
   "metadata": {},
   "source": [
    "### Testing for differences"
   ]
  },
  {
   "cell_type": "markdown",
   "metadata": {},
   "source": [
    "This type of simulation allows to calculate differences and ratios between paired results. This allows to tell how many times one product had a better perfomance than the other across the entire simulation, and how large was this difference. \n",
    "\n",
    "These indicators can help to understand whether the differences observed are sufficiently large, in the light of the uncertainties, to conclude confidently that one product is better than the other, all remaining conditions being equal."
   ]
  },
  {
   "cell_type": "code",
   "execution_count": 23,
   "metadata": {},
   "outputs": [
    {
     "data": {
      "text/html": [
       "<div>\n",
       "<style scoped>\n",
       "    .dataframe tbody tr th:only-of-type {\n",
       "        vertical-align: middle;\n",
       "    }\n",
       "\n",
       "    .dataframe tbody tr th {\n",
       "        vertical-align: top;\n",
       "    }\n",
       "\n",
       "    .dataframe thead th {\n",
       "        text-align: right;\n",
       "    }\n",
       "</style>\n",
       "<table border=\"1\" class=\"dataframe\">\n",
       "  <thead>\n",
       "    <tr style=\"text-align: right;\">\n",
       "      <th></th>\n",
       "      <th>use</th>\n",
       "      <th>use_alt</th>\n",
       "      <th>diffe</th>\n",
       "      <th>rd_use</th>\n",
       "      <th>rd_use_alt</th>\n",
       "    </tr>\n",
       "  </thead>\n",
       "  <tbody>\n",
       "    <tr>\n",
       "      <th>count</th>\n",
       "      <td>100.000000</td>\n",
       "      <td>100.000000</td>\n",
       "      <td>100.000000</td>\n",
       "      <td>100.000000</td>\n",
       "      <td>100.000000</td>\n",
       "    </tr>\n",
       "    <tr>\n",
       "      <th>mean</th>\n",
       "      <td>151.671161</td>\n",
       "      <td>171.706618</td>\n",
       "      <td>-20.035457</td>\n",
       "      <td>-0.168291</td>\n",
       "      <td>-0.088051</td>\n",
       "    </tr>\n",
       "    <tr>\n",
       "      <th>std</th>\n",
       "      <td>61.587156</td>\n",
       "      <td>66.304910</td>\n",
       "      <td>47.898244</td>\n",
       "      <td>0.303413</td>\n",
       "      <td>0.233262</td>\n",
       "    </tr>\n",
       "    <tr>\n",
       "      <th>min</th>\n",
       "      <td>66.681924</td>\n",
       "      <td>75.105630</td>\n",
       "      <td>-223.629297</td>\n",
       "      <td>-1.234493</td>\n",
       "      <td>-0.552471</td>\n",
       "    </tr>\n",
       "    <tr>\n",
       "      <th>25%</th>\n",
       "      <td>109.333769</td>\n",
       "      <td>119.021908</td>\n",
       "      <td>-38.089754</td>\n",
       "      <td>-0.315365</td>\n",
       "      <td>-0.239753</td>\n",
       "    </tr>\n",
       "    <tr>\n",
       "      <th>50%</th>\n",
       "      <td>138.413616</td>\n",
       "      <td>158.396103</td>\n",
       "      <td>-18.023101</td>\n",
       "      <td>-0.149410</td>\n",
       "      <td>-0.129988</td>\n",
       "    </tr>\n",
       "    <tr>\n",
       "      <th>75%</th>\n",
       "      <td>172.730066</td>\n",
       "      <td>211.832499</td>\n",
       "      <td>5.966469</td>\n",
       "      <td>0.057954</td>\n",
       "      <td>0.061522</td>\n",
       "    </tr>\n",
       "    <tr>\n",
       "      <th>max</th>\n",
       "      <td>367.724436</td>\n",
       "      <td>404.780040</td>\n",
       "      <td>141.013365</td>\n",
       "      <td>0.442612</td>\n",
       "      <td>0.794083</td>\n",
       "    </tr>\n",
       "  </tbody>\n",
       "</table>\n",
       "</div>"
      ],
      "text/plain": [
       "              use     use_alt       diffe      rd_use  rd_use_alt\n",
       "count  100.000000  100.000000  100.000000  100.000000  100.000000\n",
       "mean   151.671161  171.706618  -20.035457   -0.168291   -0.088051\n",
       "std     61.587156   66.304910   47.898244    0.303413    0.233262\n",
       "min     66.681924   75.105630 -223.629297   -1.234493   -0.552471\n",
       "25%    109.333769  119.021908  -38.089754   -0.315365   -0.239753\n",
       "50%    138.413616  158.396103  -18.023101   -0.149410   -0.129988\n",
       "75%    172.730066  211.832499    5.966469    0.057954    0.061522\n",
       "max    367.724436  404.780040  141.013365    0.442612    0.794083"
      ]
     },
     "execution_count": 23,
     "metadata": {},
     "output_type": "execute_result"
    }
   ],
   "source": [
    "# You can see how many times the difference is positive. This is what SimaPro also does\n",
    "df['diffe'] = df['use'] - df['use_alt']\n",
    "\n",
    "# Ratio of the difference on each alternative respectively\n",
    "df['rd_use'] = df['diffe']  / df['use']\n",
    "df['rd_use_alt'] = df['diffe']  / df['use_alt']\n",
    "\n",
    "df.describe()"
   ]
  },
  {
   "cell_type": "markdown",
   "metadata": {},
   "source": [
    "In this specific case one can see that out of 100 times the alternative is worse than the based case in two thirds (63%) of cases. And the differences are distributed a bit on the left of the zero. The intepretation is that one can not conclude that the original activity is always outperforming the alternative, given the uncertainties, but the original is often the better option. It is up to the decision maker to set a threshold of performance to make a decision (is 66% sufficient to decide to keep the original and discard the alternative?). "
   ]
  },
  {
   "cell_type": "code",
   "execution_count": 24,
   "metadata": {},
   "outputs": [
    {
     "name": "stdout",
     "output_type": "stream",
     "text": [
      "63\n",
      "37\n",
      "0\n"
     ]
    },
    {
     "data": {
      "image/png": "[encoded data removed]",
      "text/plain": [
       "<Figure size 640x480 with 1 Axes>"
      ]
     },
     "metadata": {},
     "output_type": "display_data"
    }
   ],
   "source": [
    "# Let's plot and count the differences.\n",
    "plt.hist(df.diffe.values)\n",
    "print(len(df.diffe[df.diffe < 0]))\n",
    "print(len(df.diffe[df.diffe > 0]))\n",
    "print(len(df.diffe[df.diffe == 0]))"
   ]
  },
  {
   "cell_type": "markdown",
   "metadata": {},
   "source": [
    "Plotting the ratios shows that the size of differences between alternatives can be very substantial, where the alternative can have an impact that is double than the original, and viceversa (both positive and negative ratios are present). Also, the way ratios are calculated does not influence this conclusion. "
   ]
  },
  {
   "cell_type": "code",
   "execution_count": 25,
   "metadata": {},
   "outputs": [
    {
     "data": {
      "text/plain": [
       "(array([ 6., 13., 26., 17., 23., 10.,  1.,  2.,  1.,  1.]),\n",
       " array([-0.55247116, -0.41781572, -0.28316029, -0.14850485, -0.01384941,\n",
       "         0.12080602,  0.25546146,  0.39011689,  0.52477233,  0.65942776,\n",
       "         0.7940832 ]),\n",
       " <BarContainer object of 10 artists>)"
      ]
     },
     "execution_count": 25,
     "metadata": {},
     "output_type": "execute_result"
    },
    {
     "data": {
      "image/png": "[encoded data removed]",
      "text/plain": [
       "<Figure size 640x480 with 1 Axes>"
      ]
     },
     "metadata": {},
     "output_type": "display_data"
    }
   ],
   "source": [
    "plt.hist(df['rd_use'].values)\n",
    "plt.hist(df['rd_use_alt'].values)"
   ]
  },
  {
   "cell_type": "markdown",
   "metadata": {},
   "source": [
    "Finally, the paired sampling approach allows to perform a more formal statistical testing such as a paired t-test. This is in order to understand if the difference observed are significant given the underlying uncertainties."
   ]
  },
  {
   "cell_type": "code",
   "execution_count": 26,
   "metadata": {},
   "outputs": [
    {
     "data": {
      "text/plain": [
       "(-4.182920937745814, 6.229363705725887e-05)"
      ]
     },
     "execution_count": 26,
     "metadata": {},
     "output_type": "execute_result"
    }
   ],
   "source": [
    "# Statistical testing (using the stats package)\n",
    "# I can use a paired t-test\n",
    "\n",
    "t_value, p_value = stats.ttest_rel(df['use'],df['use_alt'])\n",
    "t_value, p_value # very low value"
   ]
  },
  {
   "cell_type": "code",
   "execution_count": 27,
   "metadata": {},
   "outputs": [
    {
     "name": "stdout",
     "output_type": "stream",
     "text": [
      "1.701219841809199e-07\n",
      "0.00031186424313082826\n"
     ]
    },
    {
     "data": {
      "image/png": "[encoded data removed]",
      "text/plain": [
       "<Figure size 640x480 with 1 Axes>"
      ]
     },
     "metadata": {},
     "output_type": "display_data"
    }
   ],
   "source": [
    "# Checking for normality\n",
    "plt.hist(df['use'].values)\n",
    "plt.xlabel('use - kg CO2-eq')\n",
    "\n",
    "SW_value, SW_p_value = stats.shapiro(df['use'])\n",
    "print(SW_p_value) # Not normally distributed...\n",
    "\n",
    "plt.hist(df['use_alt'].values)\n",
    "SW_value, SW_p_value = stats.shapiro(df['use_alt'])\n",
    "print(SW_p_value) # Not normally distributed...\n"
   ]
  },
  {
   "cell_type": "code",
   "execution_count": 28,
   "metadata": {},
   "outputs": [
    {
     "data": {
      "text/plain": [
       "(1314.0, 3.129786912845514e-05)"
      ]
     },
     "execution_count": 28,
     "metadata": {},
     "output_type": "execute_result"
    }
   ],
   "source": [
    "# Using non-parametric test. Wilcox sign rank test\n",
    "s_value, p_value = stats.wilcoxon(df['use'], df['use_alt'])\n",
    "s_value, p_value # Significant difference at p < 0.05"
   ]
  },
  {
   "cell_type": "markdown",
   "metadata": {},
   "source": [
    "Summing up, the statistical tests show a significant difference between the two distributions, which means that even with these uncertainties, we can in fact conclude with high confidence that one alternative is differnet from the other. \n",
    "\n",
    "From the the analysis of differences and trends we see then how large is this difference (two out of three times the original outperforms the alternative). \n",
    "\n",
    "The decision maker is now able to make an informed decision based on these results and a clear understanding of the uncertainties."
   ]
  }
 ],
 "metadata": {
  "kernelspec": {
   "display_name": "Python 3 (ipykernel)",
   "language": "python",
   "name": "python3"
  },
  "language_info": {
   "codemirror_mode": {
    "name": "ipython",
    "version": 3
   },
   "file_extension": ".py",
   "mimetype": "text/x-python",
   "name": "python",
   "nbconvert_exporter": "python",
   "pygments_lexer": "ipython3",
   "version": "3.10.13"
  }
 },
 "nbformat": 4,
 "nbformat_minor": 4
}
