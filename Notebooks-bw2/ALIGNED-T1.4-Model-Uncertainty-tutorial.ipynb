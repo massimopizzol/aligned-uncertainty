{
 "cells": [
  {
   "cell_type": "markdown",
   "id": "85f05f60-698d-441a-86a6-c68bd154daa9",
   "metadata": {},
   "source": [
    "# ALIGNED project: Model uncertainty tutorial\n",
    "\n",
    "**Aligning Life Cycle Assessment methods and bio-based sectors for improved environmental performance**\n",
    "\n",
    "[http://www.alignedproject.eu/](http://www.alignedproject.eu/)\n",
    "\n",
    "_Horizon Europe grant agreement N° 101059430. Views and opinions expressed are however those of the author(s) only and do not necessarily reflect those of the European Union or the European Research Executive Agency._ \n",
    "\n",
    "\n",
    "## WP1 Shared modelling framework and learnings\n",
    "### Task 1.4 Framework for interpreting uncertainty\n",
    "\n",
    "#### Deliverable 1.2 Description of scientific methods\n",
    "\n",
    "#### Tutorial for performing the analysis of model uncertainty\n",
    "\n",
    "#### Massimo Pizzol, Aalborg University (AAU), 2024\n",
    "\n",
    "This notebook show how to perform a uncertainty analysis for a example product system of a biobased product, and quantify the uncertainty due to a specific modelling choice, in this case the choice of electricity mix."
   ]
  },
  {
   "cell_type": "code",
   "execution_count": 2,
   "id": "51eb71a0-1d53-4cf9-93fc-527297c3d5b8",
   "metadata": {},
   "outputs": [],
   "source": [
    "# importing packages\n",
    "import brightway2 as bw\n",
    "import pandas as pd\n",
    "import numpy as np\n",
    "from scipy import stats\n",
    "from lci_to_bw2 import * # import all the functions of this module"
   ]
  },
  {
   "cell_type": "code",
   "execution_count": 3,
   "id": "c352ab8e-5b07-4189-92be-3a89bb8c671b",
   "metadata": {},
   "outputs": [],
   "source": [
    "# open a project with ecoinvent v.3.9.1 consequential system model\n",
    "bw.projects.set_current('advlca23')"
   ]
  },
  {
   "cell_type": "markdown",
   "id": "832ccb57-7b2f-4951-abe4-ab406ab2b3ec",
   "metadata": {},
   "source": [
    "We start by importing a dummy prodcut system of a biobased product"
   ]
  },
  {
   "cell_type": "markdown",
   "id": "1dae50ce-7675-4f39-ab76-ccfe30b6fcf4",
   "metadata": {},
   "source": [
    "We start by importing data about a fictional (\"dummy\") product system for a biobased product."
   ]
  },
  {
   "cell_type": "code",
   "execution_count": 4,
   "id": "2683e606-47d3-42c9-824f-359aa1bc6291",
   "metadata": {},
   "outputs": [
    {
     "name": "stderr",
     "output_type": "stream",
     "text": [
      "Writing activities to SQLite3 database:\n",
      "0% [#####] 100% | ETA: 00:00:00\n",
      "Total time elapsed: 00:00:00\n"
     ]
    },
    {
     "name": "stdout",
     "output_type": "stream",
     "text": [
      "Title: Writing activities to SQLite3 database:\n",
      "  Started: 03/14/2024 20:18:08\n",
      "  Finished: 03/14/2024 20:18:08\n",
      "  Total time elapsed: 00:00:00\n",
      "  CPU %: 92.80\n",
      "  Memory %: 1.25\n",
      "'Biobased-product-eol' (kilogram, None, None) c8301e73-d521-4a89-998b-30b7e7751011\n",
      "'Biobased-product-use' (year, None, None) f9eabf64-b899-40c0-9f9f-2009dbb0a0b2\n",
      "'Biomass-processing' (kilogram, None, None) 403a5c32-c769-46fc-8b9a-74b8eb3c79d1\n",
      "'Biobased-product-manufacturing' (kilogram, None, None) a37d149a-6508-4563-8af6-e5a39b4176df\n",
      "'Biomass-growth' (kilogram, None, None) a7d34649-9c10-4423-bac3-ecab9b43b20c\n"
     ]
    }
   ],
   "source": [
    "# Import the dummy product system\n",
    "\n",
    "# import data from csv\n",
    "mydata = pd.read_csv('ALIGNED-LCI-biobased-product-dummy.csv', header = 0, sep = \",\") # using csv file avoids encoding problem\n",
    "mydata.head()\n",
    "\n",
    "# keep only the columns not needed\n",
    "mydb = mydata[['Activity database','Activity code','Activity name','Activity unit','Activity type',\n",
    "               'Exchange database','Exchange input','Exchange amount','Exchange unit','Exchange type',\n",
    "               'Exchange uncertainty type','Exchange loc','Exchange scale','Exchange negative', \n",
    "               'Simapro name',\t'Simapro unit', 'Simapro type']].copy()\n",
    "\n",
    "mydb = mydata.copy()\n",
    "\n",
    "mydb['Exchange uncertainty type'] = mydb['Exchange uncertainty type'].fillna(0).astype(int) # uncertainty as integers\n",
    "# Note: to avoid having both nan and values in the uncertainty column I use zero as default\n",
    "\n",
    "# Create dictionary in bw format and write database to disk. \n",
    "# Shut down all other notebooks using the same project before doing this\n",
    "bw2_db = lci_to_bw2(mydb) # a function from the lci_to_bw2 module\n",
    "\n",
    "# write database\n",
    "bw.Database('ALIGNED-biob-prod-dummy').write(bw2_db)\n",
    "\n",
    "# check what foreground activities are included\n",
    "for act in bw.Database('ALIGNED-biob-prod-dummy'):\n",
    "    print(act, act['code'])"
   ]
  },
  {
   "cell_type": "code",
   "execution_count": 5,
   "id": "87d2fbc6-0c31-4e91-ba67-c03aa2d9bc87",
   "metadata": {},
   "outputs": [
    {
     "data": {
      "text/plain": [
       "{'name': 'Biobased-product-use',\n",
       " 'unit': 'year',\n",
       " 'type': 'process',\n",
       " 'database': 'ALIGNED-biob-prod-dummy',\n",
       " 'code': 'f9eabf64-b899-40c0-9f9f-2009dbb0a0b2'}"
      ]
     },
     "execution_count": 5,
     "metadata": {},
     "output_type": "execute_result"
    }
   ],
   "source": [
    "# More info \n",
    "myact = bw.Database('ALIGNED-biob-prod-dummy').get('f9eabf64-b899-40c0-9f9f-2009dbb0a0b2') # Biobased-product-use\n",
    "myact._data"
   ]
  },
  {
   "cell_type": "markdown",
   "id": "0c47ebe1-7237-40c5-a9e4-49dbf3081842",
   "metadata": {},
   "source": [
    "We calculate a static climate impact score for the fictional biobased product, to be used for reference later on."
   ]
  },
  {
   "cell_type": "code",
   "execution_count": 6,
   "id": "bac2b163-a2b1-44d4-a56f-ec7549c2bbe4",
   "metadata": {},
   "outputs": [
    {
     "name": "stdout",
     "output_type": "stream",
     "text": [
      "The static Global Warming impact score is 121.67148851736351 kg CO2-Eq\n"
     ]
    }
   ],
   "source": [
    "# calculation of static LCA score\n",
    "mymethod = ('IPCC 2013', 'climate change', 'global warming potential (GWP100)')\n",
    "myact = bw.Database('ALIGNED-biob-prod-dummy').get('f9eabf64-b899-40c0-9f9f-2009dbb0a0b2') # Biobased-product-use\n",
    "functional_unit = {myact: 1}\n",
    "LCA = bw.LCA(functional_unit, mymethod)\n",
    "LCA.lci()\n",
    "LCA.lcia()\n",
    "print(\"The static Global Warming impact score is\", LCA.score, bw.methods[mymethod]['unit'])"
   ]
  },
  {
   "cell_type": "markdown",
   "id": "d789014d-525b-4bab-a4d7-966c3452177f",
   "metadata": {},
   "source": [
    "### Perform uncertainty analysis on a specific modelling choice"
   ]
  },
  {
   "cell_type": "markdown",
   "id": "5c9c0495-2f04-48a3-924f-8538332a78f5",
   "metadata": {},
   "source": [
    "One might for example lack specific knowledge regarding where a product is produced or used and thus be interested in changing the electricity mix to understant what is the range of results that can be obtained due to this choice or spatial veriability. \n",
    "\n",
    "In this example, the LCA is run with **different electricity market mixes** randmoly chosen from ecoinvent instead of just one."
   ]
  },
  {
   "cell_type": "markdown",
   "id": "bc21a3c0-f2b3-4c68-bd60-c62006fdec7b",
   "metadata": {},
   "source": [
    "In the product system under analysis, electricity is used in the manufacturing process."
   ]
  },
  {
   "cell_type": "code",
   "execution_count": 7,
   "id": "a5a15eb3-c391-4c1e-9a14-a3a7549349f5",
   "metadata": {},
   "outputs": [
    {
     "data": {
      "text/plain": [
       "{'name': 'Biobased-product-manufacturing',\n",
       " 'unit': 'kilogram',\n",
       " 'type': 'process',\n",
       " 'database': 'ALIGNED-biob-prod-dummy',\n",
       " 'code': 'a37d149a-6508-4563-8af6-e5a39b4176df'}"
      ]
     },
     "execution_count": 7,
     "metadata": {},
     "output_type": "execute_result"
    }
   ],
   "source": [
    "# Select the manufacturing activity.\n",
    "myact = bw.Database('ALIGNED-biob-prod-dummy').get('a37d149a-6508-4563-8af6-e5a39b4176df') # Biobased-product-manufacturing\n",
    "myact._data"
   ]
  },
  {
   "cell_type": "markdown",
   "id": "3ed52fbb-24d3-441e-97b7-37da9a3fa0c6",
   "metadata": {},
   "source": [
    "Specifically, it is electricity from the Danish market, medium voltage."
   ]
  },
  {
   "cell_type": "code",
   "execution_count": 8,
   "id": "8aef9da5-13de-4850-ae63-c7136838f5fe",
   "metadata": {},
   "outputs": [
    {
     "name": "stdout",
     "output_type": "stream",
     "text": [
      "Exchange: 1.0 kilogram 'Biobased-product-manufacturing' (kilogram, None, None) to 'Biobased-product-manufacturing' (kilogram, None, None)>\n",
      "Exchange: 0.5 kilogram 'Biomass-growth' (kilogram, None, None) to 'Biobased-product-manufacturing' (kilogram, None, None)>\n",
      "Exchange: 0.5 kilogram 'Biomass-processing' (kilogram, None, None) to 'Biobased-product-manufacturing' (kilogram, None, None)>\n",
      "Exchange: 0.5 kilowatt hour 'market for electricity, medium voltage' (kilowatt hour, DK, None) to 'Biobased-product-manufacturing' (kilogram, None, None)>\n"
     ]
    }
   ],
   "source": [
    "for exc in list(myact.exchanges()):\n",
    "    print(exc)"
   ]
  },
  {
   "cell_type": "markdown",
   "id": "bb245484-a9af-4321-90ac-01de584a615f",
   "metadata": {
    "tags": []
   },
   "source": [
    "#### Step 1\n",
    "\n",
    "First make a list of electricity markets we want to test. \n"
   ]
  },
  {
   "cell_type": "code",
   "execution_count": 9,
   "id": "00642e67-9830-4f05-a8c4-18f4848d6d7f",
   "metadata": {},
   "outputs": [
    {
     "data": {
      "text/plain": [
       "[('ecoinvent 3.9 conseq', '09b0dd783c942c69761ef2a217c01ded'),\n",
       " ('ecoinvent 3.9 conseq', 'b37d3cf1a8f3864d2964238a3e4f04ae'),\n",
       " ('ecoinvent 3.9 conseq', 'cb6281a8f1132aa84b3bc1ce09f5a83a'),\n",
       " ('ecoinvent 3.9 conseq', '01b5e56b9411d3de1f151d5d83eb1a57')]"
      ]
     },
     "execution_count": 9,
     "metadata": {},
     "output_type": "execute_result"
    }
   ],
   "source": [
    "el_markets = [('ecoinvent 3.9 conseq', i['code']) \n",
    "              for i in bw.Database(\"ecoinvent 3.9 conseq\").search('market electricity medium voltage', limit = 100)]\n",
    "el_markets[1:5] # prints the first four of them"
   ]
  },
  {
   "cell_type": "markdown",
   "id": "c816594f-93ce-48d7-970a-d13baacdbae0",
   "metadata": {},
   "source": [
    "Now we substitute these in the product system instead of the current electricity"
   ]
  },
  {
   "cell_type": "code",
   "execution_count": 10,
   "id": "5608197c-0d30-4291-b243-e3550ec45888",
   "metadata": {},
   "outputs": [],
   "source": [
    "# Get the activity, substitute the background process, save, and calculate\n",
    "el_loc_results = [] # empty list that will contain all the results of the local SA\n",
    "bb_manuf = bw.Database('ALIGNED-biob-prod-dummy').get('a37d149a-6508-4563-8af6-e5a39b4176df')\n",
    "for m in el_markets[0:30]: # I am taking 30 different electticity markets\n",
    "    exc = list(bb_manuf.exchanges())[3] # select the first exchange in the activity, i.e. the input from ecoinvent\n",
    "    exc['input'] = m\n",
    "    exc.save() # important or the changes won't be maintained\n",
    "    lca = bw.LCA(functional_unit, mymethod)\n",
    "    lca.lci()\n",
    "    lca.lcia()\n",
    "    el_loc_results.append(lca.score)"
   ]
  },
  {
   "cell_type": "markdown",
   "id": "e6d4dfdb-61dc-4dee-882c-1c8dc414b8ab",
   "metadata": {},
   "source": [
    "Let's look at the results"
   ]
  },
  {
   "cell_type": "code",
   "execution_count": 11,
   "id": "2d75be6d-c602-47f3-8c75-0e02212585bf",
   "metadata": {},
   "outputs": [
    {
     "data": {
      "text/plain": [
       "[133.76717397723388,\n",
       " 133.77911165332955,\n",
       " 133.75913297460792,\n",
       " 122.50364482966519,\n",
       " 133.853580535514,\n",
       " 133.6078928681361,\n",
       " 121.67148851736351,\n",
       " 133.7511953871373,\n",
       " 133.8080454889203]"
      ]
     },
     "execution_count": 11,
     "metadata": {},
     "output_type": "execute_result"
    }
   ],
   "source": [
    "el_loc_results[1:10]"
   ]
  },
  {
   "cell_type": "markdown",
   "id": "75776998-d11d-42a3-9368-8207649dea72",
   "metadata": {},
   "source": [
    "We can get quick descriptive statistics of the distribution of results including a median value (50% percentile) and a quantitative measure of uncertainty in terms of standard deviation (std)"
   ]
  },
  {
   "cell_type": "code",
   "execution_count": 12,
   "id": "18c3475b-21cd-42f9-ab87-e00aa234a7ad",
   "metadata": {},
   "outputs": [
    {
     "data": {
      "text/html": [
       "<div>\n",
       "<style scoped>\n",
       "    .dataframe tbody tr th:only-of-type {\n",
       "        vertical-align: middle;\n",
       "    }\n",
       "\n",
       "    .dataframe tbody tr th {\n",
       "        vertical-align: top;\n",
       "    }\n",
       "\n",
       "    .dataframe thead th {\n",
       "        text-align: right;\n",
       "    }\n",
       "</style>\n",
       "<table border=\"1\" class=\"dataframe\">\n",
       "  <thead>\n",
       "    <tr style=\"text-align: right;\">\n",
       "      <th></th>\n",
       "      <th>GWI scores</th>\n",
       "    </tr>\n",
       "  </thead>\n",
       "  <tbody>\n",
       "    <tr>\n",
       "      <th>count</th>\n",
       "      <td>30.000000</td>\n",
       "    </tr>\n",
       "    <tr>\n",
       "      <th>mean</th>\n",
       "      <td>132.056870</td>\n",
       "    </tr>\n",
       "    <tr>\n",
       "      <th>std</th>\n",
       "      <td>7.197142</td>\n",
       "    </tr>\n",
       "    <tr>\n",
       "      <th>min</th>\n",
       "      <td>121.007039</td>\n",
       "    </tr>\n",
       "    <tr>\n",
       "      <th>25%</th>\n",
       "      <td>127.404368</td>\n",
       "    </tr>\n",
       "    <tr>\n",
       "      <th>50%</th>\n",
       "      <td>133.763153</td>\n",
       "    </tr>\n",
       "    <tr>\n",
       "      <th>75%</th>\n",
       "      <td>133.816001</td>\n",
       "    </tr>\n",
       "    <tr>\n",
       "      <th>max</th>\n",
       "      <td>152.848582</td>\n",
       "    </tr>\n",
       "  </tbody>\n",
       "</table>\n",
       "</div>"
      ],
      "text/plain": [
       "       GWI scores\n",
       "count   30.000000\n",
       "mean   132.056870\n",
       "std      7.197142\n",
       "min    121.007039\n",
       "25%    127.404368\n",
       "50%    133.763153\n",
       "75%    133.816001\n",
       "max    152.848582"
      ]
     },
     "execution_count": 12,
     "metadata": {},
     "output_type": "execute_result"
    }
   ],
   "source": [
    "pd.DataFrame(el_loc_results, columns = ['GWI scores']).describe()"
   ]
  },
  {
   "cell_type": "markdown",
   "id": "da9778c2-8ac9-45dd-8e9c-2af359b06264",
   "metadata": {},
   "source": [
    "Note that the median is higher than the static value calculated in the beginning, a sign that the default system using Danish electricity mix is in the lower end of the potential range of impacts."
   ]
  },
  {
   "cell_type": "markdown",
   "id": "f1742a14-598c-42c2-8d7a-b80bdee4bed2",
   "metadata": {},
   "source": [
    "We can also have a visual look at the uncertainty."
   ]
  },
  {
   "cell_type": "code",
   "execution_count": 13,
   "id": "ddbc7b7e-f8c0-4a36-9f31-4fd0136bb5bb",
   "metadata": {},
   "outputs": [],
   "source": [
    "from matplotlib import pyplot as plt"
   ]
  },
  {
   "cell_type": "code",
   "execution_count": 14,
   "id": "bf44476a-5267-4db7-86c0-78b91b04d704",
   "metadata": {},
   "outputs": [
    {
     "data": {
      "text/plain": [
       "Text(0.5, 0, 'Use of biobased product')"
      ]
     },
     "execution_count": 14,
     "metadata": {},
     "output_type": "execute_result"
    },
    {
     "data": {
      "image/png": "[encoded data removed]",
      "text/plain": [
       "<Figure size 640x480 with 1 Axes>"
      ]
     },
     "metadata": {},
     "output_type": "display_data"
    }
   ],
   "source": [
    "# Using matplotlib package\n",
    "plt.boxplot(el_loc_results)\n",
    "plt.ylabel(bw.methods[mymethod]['unit'])\n",
    "plt.xlabel('Use of biobased product')"
   ]
  }
 ],
 "metadata": {
  "kernelspec": {
   "display_name": "Python 3 (ipykernel)",
   "language": "python",
   "name": "python3"
  },
  "language_info": {
   "codemirror_mode": {
    "name": "ipython",
    "version": 3
   },
   "file_extension": ".py",
   "mimetype": "text/x-python",
   "name": "python",
   "nbconvert_exporter": "python",
   "pygments_lexer": "ipython3",
   "version": "3.10.13"
  }
 },
 "nbformat": 4,
 "nbformat_minor": 5
}
